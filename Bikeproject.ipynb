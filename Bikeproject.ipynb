{
  "cells": [
    {
      "cell_type": "code",
      "execution_count": null,
      "metadata": {
        "colab": {
          "base_uri": "https://localhost:8080/"
        },
        "id": "BtMd_U6efjGK",
        "outputId": "cc792252-bf92-4190-f5aa-1658e9d7cb9d"
      },
      "outputs": [
        {
          "output_type": "stream",
          "name": "stderr",
          "text": [
            "Installing package into ‘/usr/local/lib/R/site-library’\n",
            "(as ‘lib’ is unspecified)\n",
            "\n",
            "Installing package into ‘/usr/local/lib/R/site-library’\n",
            "(as ‘lib’ is unspecified)\n",
            "\n",
            "Installing package into ‘/usr/local/lib/R/site-library’\n",
            "(as ‘lib’ is unspecified)\n",
            "\n",
            "Installing package into ‘/usr/local/lib/R/site-library’\n",
            "(as ‘lib’ is unspecified)\n",
            "\n",
            "Installing package into ‘/usr/local/lib/R/site-library’\n",
            "(as ‘lib’ is unspecified)\n",
            "\n"
          ]
        }
      ],
      "source": [
        "#insall needed pachages\n",
        "install.packages('tidyverse')\n",
        "install.packages('dplyr')\n",
        "install.packages('lubridate')\n",
        "install.packages('readr')\n",
        "install.packages('readxl')"
      ]
    },
    {
      "cell_type": "code",
      "source": [
        "install.packages('janitor')\n",
        "install.packages('data.table')\n",
        "install.packages('psych')\n",
        "#install.packages('hrbrthemes')"
      ],
      "metadata": {
        "id": "YLgOMInjHTKI",
        "outputId": "ed527a55-38db-46d5-f1ca-120ea3b9923a",
        "colab": {
          "base_uri": "https://localhost:8080/"
        }
      },
      "execution_count": null,
      "outputs": [
        {
          "output_type": "stream",
          "name": "stderr",
          "text": [
            "Installing package into ‘/usr/local/lib/R/site-library’\n",
            "(as ‘lib’ is unspecified)\n",
            "\n",
            "also installing the dependency ‘snakecase’\n",
            "\n",
            "\n",
            "Installing package into ‘/usr/local/lib/R/site-library’\n",
            "(as ‘lib’ is unspecified)\n",
            "\n",
            "Installing package into ‘/usr/local/lib/R/site-library’\n",
            "(as ‘lib’ is unspecified)\n",
            "\n",
            "also installing the dependency ‘mnormt’\n",
            "\n",
            "\n"
          ]
        }
      ]
    },
    {
      "cell_type": "code",
      "source": [
        "install.packages('janitor')"
      ],
      "metadata": {
        "colab": {
          "base_uri": "https://localhost:8080/"
        },
        "id": "zaaX-krgKZlM",
        "outputId": "c0e33b4a-ab85-4a8c-8017-0e4026531a71"
      },
      "execution_count": null,
      "outputs": [
        {
          "output_type": "stream",
          "name": "stderr",
          "text": [
            "Installing package into ‘/usr/local/lib/R/site-library’\n",
            "(as ‘lib’ is unspecified)\n",
            "\n"
          ]
        }
      ]
    },
    {
      "cell_type": "code",
      "execution_count": null,
      "metadata": {
        "id": "6YPzFJbsfuM-",
        "colab": {
          "base_uri": "https://localhost:8080/"
        },
        "outputId": "9d829d55-41bd-4916-d377-966a316768ea"
      },
      "outputs": [
        {
          "output_type": "stream",
          "name": "stderr",
          "text": [
            "── \u001b[1mAttaching core tidyverse packages\u001b[22m ──────────────────────── tidyverse 2.0.0 ──\n",
            "\u001b[32m✔\u001b[39m \u001b[34mdplyr    \u001b[39m 1.1.4     \u001b[32m✔\u001b[39m \u001b[34mreadr    \u001b[39m 2.1.4\n",
            "\u001b[32m✔\u001b[39m \u001b[34mforcats  \u001b[39m 1.0.0     \u001b[32m✔\u001b[39m \u001b[34mstringr  \u001b[39m 1.5.1\n",
            "\u001b[32m✔\u001b[39m \u001b[34mggplot2  \u001b[39m 3.4.4     \u001b[32m✔\u001b[39m \u001b[34mtibble   \u001b[39m 3.2.1\n",
            "\u001b[32m✔\u001b[39m \u001b[34mlubridate\u001b[39m 1.9.3     \u001b[32m✔\u001b[39m \u001b[34mtidyr    \u001b[39m 1.3.0\n",
            "\u001b[32m✔\u001b[39m \u001b[34mpurrr    \u001b[39m 1.0.2     \n",
            "── \u001b[1mConflicts\u001b[22m ────────────────────────────────────────── tidyverse_conflicts() ──\n",
            "\u001b[31m✖\u001b[39m \u001b[34mdplyr\u001b[39m::\u001b[32mfilter()\u001b[39m masks \u001b[34mstats\u001b[39m::filter()\n",
            "\u001b[31m✖\u001b[39m \u001b[34mdplyr\u001b[39m::\u001b[32mlag()\u001b[39m    masks \u001b[34mstats\u001b[39m::lag()\n",
            "\u001b[36mℹ\u001b[39m Use the conflicted package (\u001b[3m\u001b[34m<http://conflicted.r-lib.org/>\u001b[39m\u001b[23m) to force all conflicts to become errors\n"
          ]
        }
      ],
      "source": [
        "library(tidyverse)\n",
        "library(dplyr)\n",
        "library(lubridate)\n",
        "library(readr)\n",
        "library(readxl)"
      ]
    },
    {
      "cell_type": "code",
      "source": [
        "library(janitor)\n",
        "library(data.table)\n",
        "library(psych)\n",
        "#library(hrbrthemes)"
      ],
      "metadata": {
        "id": "Z_Kju3_3HLXO",
        "colab": {
          "base_uri": "https://localhost:8080/"
        },
        "outputId": "da321b4d-78b1-4d92-b332-1ce19b72b780"
      },
      "execution_count": null,
      "outputs": [
        {
          "output_type": "stream",
          "name": "stderr",
          "text": [
            "\n",
            "Attaching package: ‘janitor’\n",
            "\n",
            "\n",
            "The following objects are masked from ‘package:stats’:\n",
            "\n",
            "    chisq.test, fisher.test\n",
            "\n",
            "\n",
            "\n",
            "Attaching package: ‘data.table’\n",
            "\n",
            "\n",
            "The following objects are masked from ‘package:lubridate’:\n",
            "\n",
            "    hour, isoweek, mday, minute, month, quarter, second, wday, week,\n",
            "    yday, year\n",
            "\n",
            "\n",
            "The following objects are masked from ‘package:dplyr’:\n",
            "\n",
            "    between, first, last\n",
            "\n",
            "\n",
            "The following object is masked from ‘package:purrr’:\n",
            "\n",
            "    transpose\n",
            "\n",
            "\n",
            "\n",
            "Attaching package: ‘psych’\n",
            "\n",
            "\n",
            "The following objects are masked from ‘package:ggplot2’:\n",
            "\n",
            "    %+%, alpha\n",
            "\n",
            "\n"
          ]
        }
      ]
    },
    {
      "cell_type": "code",
      "execution_count": null,
      "metadata": {
        "id": "9Mm8AdKnfuRY"
      },
      "outputs": [],
      "source": [
        "# Read dataset from My PC\n",
        "jan_2023 <- read.csv(\"/content/202301-divvy-tripdata.csv\" , sep = \",\", quote = \"\\\"\",\n",
        "                 row.names = NULL,\n",
        "                 stringsAsFactors = FALSE)"
      ]
    },
    {
      "cell_type": "code",
      "source": [
        "feb_2023<- read.csv(\"/content/202302-divvy-tripdata.csv\" , sep = \",\", quote = \"\\\"\",\n",
        "                 row.names = NULL,\n",
        "                 stringsAsFactors = FALSE)"
      ],
      "metadata": {
        "id": "C-vvGfeS9YWD"
      },
      "execution_count": null,
      "outputs": []
    },
    {
      "cell_type": "code",
      "source": [
        "mar_2023 <- read.csv(\"/content/202303-divvy-tripdata.csv\", sep = \",\", quote = \"\\\"\",\n",
        "                 row.names = NULL,\n",
        "                 stringsAsFactors = FALSE)"
      ],
      "metadata": {
        "id": "Dib5v0yP9YeD"
      },
      "execution_count": null,
      "outputs": []
    },
    {
      "cell_type": "code",
      "source": [
        "apr_2023 <- read.csv(\"/content/202304-divvy-tripdata.csv\" , sep = \",\", quote = \"\\\"\",\n",
        "                 row.names = NULL,\n",
        "                 stringsAsFactors = FALSE)"
      ],
      "metadata": {
        "id": "yd2I7ITt9Yjo"
      },
      "execution_count": null,
      "outputs": []
    },
    {
      "cell_type": "code",
      "source": [
        "may_2023 <- read.csv(\"/content/202305-divvy-tripdata.csv\" , sep = \",\", quote = \"\\\"\",\n",
        "                 row.names = NULL,\n",
        "                 stringsAsFactors = FALSE)"
      ],
      "metadata": {
        "id": "u6vlpDkM9dTU"
      },
      "execution_count": null,
      "outputs": []
    },
    {
      "cell_type": "code",
      "source": [
        "june_2023 <- read.csv(\"/content/202306-divvy-tripdata.csv\" , sep = \",\", quote = \"\\\"\",\n",
        "                 row.names = NULL,\n",
        "                 stringsAsFactors = FALSE)"
      ],
      "metadata": {
        "id": "VcCpKSpa9Ym8"
      },
      "execution_count": null,
      "outputs": []
    },
    {
      "cell_type": "code",
      "source": [
        "july_2023 <- read.csv(\"/content/202307-divvy-tripdata.csv\" , sep = \",\", quote = \"\\\"\",\n",
        "                 row.names = NULL,\n",
        "                 stringsAsFactors = FALSE)"
      ],
      "metadata": {
        "id": "5x2fnfm49Ypj"
      },
      "execution_count": null,
      "outputs": []
    },
    {
      "cell_type": "code",
      "source": [
        "aug_2023 <- read.csv(\"/content/202308-divvy-tripdata.csv\", sep = \",\", quote = \"\\\"\",\n",
        "                 row.names = NULL,\n",
        "                 stringsAsFactors = FALSE)"
      ],
      "metadata": {
        "id": "mz528CaC9Ysk"
      },
      "execution_count": null,
      "outputs": []
    },
    {
      "cell_type": "code",
      "source": [
        "sep_2023 <- read.csv(\"/content/202309-divvy-tripdata.csv\" , sep = \",\", quote = \"\\\"\",\n",
        "                 row.names = NULL,\n",
        "                 stringsAsFactors = FALSE)"
      ],
      "metadata": {
        "id": "0fW4WaEi9Yv0"
      },
      "execution_count": null,
      "outputs": []
    },
    {
      "cell_type": "code",
      "source": [
        "oct_2023 <- read.csv(\"/content/202310-divvy-tripdata.csv\", sep = \",\", quote = \"\\\"\",\n",
        "                 row.names = NULL,\n",
        "                 stringsAsFactors = FALSE)"
      ],
      "metadata": {
        "id": "Q3yXgnk79lgq"
      },
      "execution_count": null,
      "outputs": []
    },
    {
      "cell_type": "code",
      "source": [
        "nov_2023 <- read.csv(\"/content/202311-divvy-tripdata.csv\" , sep = \",\", quote = \"\\\"\",\n",
        "                 row.names = NULL,\n",
        "                 stringsAsFactors = FALSE)"
      ],
      "metadata": {
        "id": "-AMgS6j09lmI"
      },
      "execution_count": null,
      "outputs": []
    },
    {
      "cell_type": "code",
      "execution_count": null,
      "metadata": {
        "id": "bo2MoG-tfuWp",
        "colab": {
          "base_uri": "https://localhost:8080/",
          "height": 34
        },
        "outputId": "b8b05ecd-c09d-43f8-ff5b-50368453eaef"
      },
      "outputs": [
        {
          "output_type": "display_data",
          "data": {
            "text/html": [
              "<style>\n",
              ".list-inline {list-style: none; margin:0; padding: 0}\n",
              ".list-inline>li {display: inline-block}\n",
              ".list-inline>li:not(:last-child)::after {content: \"\\00b7\"; padding: 0 .5ex}\n",
              "</style>\n",
              "<ol class=list-inline><li>5495804</li><li>13</li></ol>\n"
            ],
            "text/markdown": "1. 5495804\n2. 13\n\n\n",
            "text/latex": "\\begin{enumerate*}\n\\item 5495804\n\\item 13\n\\end{enumerate*}\n",
            "text/plain": [
              "[1] 5495804      13"
            ]
          },
          "metadata": {}
        }
      ],
      "source": [
        "# combine 11 months of year 2023\n",
        "bikedata <- rbind(jan_2023,feb_2023,mar_2023,apr_2023,may_2023,june_2023,july_2023,aug_2023,sep_2023,oct_2023,nov_2023)\n",
        "dim(bikedata) ## contains 5495804 rows and 13 columns"
      ]
    },
    {
      "cell_type": "code",
      "execution_count": null,
      "metadata": {
        "id": "8lsTTdI0hJ3o"
      },
      "outputs": [],
      "source": [
        "# Save the combined files of Dataset to csv file\n",
        "write.csv(bikedata,file = \"biketrip_2023v2.csv\")"
      ]
    },
    {
      "cell_type": "code",
      "source": [
        "bikedata <- read.csv(\"/content/biketrip_2023.csv\" , sep = \",\", quote = \"\\\"\",\n",
        "                 row.names = NULL,\n",
        "                 stringsAsFactors = FALSE)"
      ],
      "metadata": {
        "id": "FrQIdvACMPYT"
      },
      "execution_count": null,
      "outputs": []
    },
    {
      "cell_type": "code",
      "source": [
        "dim(bikedata)"
      ],
      "metadata": {
        "colab": {
          "base_uri": "https://localhost:8080/",
          "height": 34
        },
        "id": "XuIC9ajP_BNQ",
        "outputId": "8efca1e4-9f2f-4767-a0ea-8ad55d3a8a28"
      },
      "execution_count": null,
      "outputs": [
        {
          "output_type": "display_data",
          "data": {
            "text/html": [
              "<style>\n",
              ".list-inline {list-style: none; margin:0; padding: 0}\n",
              ".list-inline>li {display: inline-block}\n",
              ".list-inline>li:not(:last-child)::after {content: \"\\00b7\"; padding: 0 .5ex}\n",
              "</style>\n",
              "<ol class=list-inline><li>5495804</li><li>13</li></ol>\n"
            ],
            "text/markdown": "1. 5495804\n2. 13\n\n\n",
            "text/latex": "\\begin{enumerate*}\n\\item 5495804\n\\item 13\n\\end{enumerate*}\n",
            "text/plain": [
              "[1] 5495804      13"
            ]
          },
          "metadata": {}
        }
      ]
    },
    {
      "cell_type": "code",
      "source": [
        "head(bikedata)"
      ],
      "metadata": {
        "id": "MXXjRDWx_BU7",
        "colab": {
          "base_uri": "https://localhost:8080/",
          "height": 514
        },
        "outputId": "c1d2fbb3-042a-4b49-c384-3fa0f0c37cb6"
      },
      "execution_count": null,
      "outputs": [
        {
          "output_type": "display_data",
          "data": {
            "text/html": [
              "<table class=\"dataframe\">\n",
              "<caption>A data.frame: 6 × 13</caption>\n",
              "<thead>\n",
              "\t<tr><th></th><th scope=col>ride_id</th><th scope=col>rideable_type</th><th scope=col>started_at</th><th scope=col>ended_at</th><th scope=col>start_station_name</th><th scope=col>start_station_id</th><th scope=col>end_station_name</th><th scope=col>end_station_id</th><th scope=col>start_lat</th><th scope=col>start_lng</th><th scope=col>end_lat</th><th scope=col>end_lng</th><th scope=col>member_casual</th></tr>\n",
              "\t<tr><th></th><th scope=col>&lt;chr&gt;</th><th scope=col>&lt;chr&gt;</th><th scope=col>&lt;chr&gt;</th><th scope=col>&lt;chr&gt;</th><th scope=col>&lt;chr&gt;</th><th scope=col>&lt;chr&gt;</th><th scope=col>&lt;chr&gt;</th><th scope=col>&lt;chr&gt;</th><th scope=col>&lt;dbl&gt;</th><th scope=col>&lt;dbl&gt;</th><th scope=col>&lt;dbl&gt;</th><th scope=col>&lt;dbl&gt;</th><th scope=col>&lt;chr&gt;</th></tr>\n",
              "</thead>\n",
              "<tbody>\n",
              "\t<tr><th scope=row>1</th><td>F96D5A74A3E41399</td><td>electric_bike</td><td>2023-01-21 20:05:42</td><td>2023-01-21 20:16:33</td><td><span style=white-space:pre-wrap>Lincoln Ave &amp; Fullerton Ave  </span></td><td>TA1309000058</td><td><span style=white-space:pre-wrap>Hampden Ct &amp; Diversey Ave     </span></td><td><span style=white-space:pre-wrap>202480.0    </span></td><td>41.92407</td><td>-87.64628</td><td>41.93000</td><td>-87.64000</td><td>member</td></tr>\n",
              "\t<tr><th scope=row>2</th><td>13CB7EB698CEDB88</td><td>classic_bike </td><td>2023-01-10 15:37:36</td><td>2023-01-10 15:46:05</td><td><span style=white-space:pre-wrap>Kimbark Ave &amp; 53rd St        </span></td><td>TA1309000037</td><td><span style=white-space:pre-wrap>Greenwood Ave &amp; 47th St       </span></td><td>TA1308000002</td><td>41.79957</td><td>-87.59475</td><td>41.80983</td><td>-87.59938</td><td>member</td></tr>\n",
              "\t<tr><th scope=row>3</th><td>BD88A2E670661CE5</td><td>electric_bike</td><td>2023-01-02 07:51:57</td><td>2023-01-02 08:05:11</td><td><span style=white-space:pre-wrap>Western Ave &amp; Lunt Ave       </span></td><td><span style=white-space:pre-wrap>RP-005      </span></td><td>Valli Produce - Evanston Plaza</td><td><span style=white-space:pre-wrap>599         </span></td><td>42.00857</td><td>-87.69048</td><td>42.03974</td><td>-87.69941</td><td>casual</td></tr>\n",
              "\t<tr><th scope=row>4</th><td>C90792D034FED968</td><td>classic_bike </td><td>2023-01-22 10:52:58</td><td>2023-01-22 11:01:44</td><td><span style=white-space:pre-wrap>Kimbark Ave &amp; 53rd St        </span></td><td>TA1309000037</td><td><span style=white-space:pre-wrap>Greenwood Ave &amp; 47th St       </span></td><td>TA1308000002</td><td>41.79957</td><td>-87.59475</td><td>41.80983</td><td>-87.59938</td><td>member</td></tr>\n",
              "\t<tr><th scope=row>5</th><td>3397017529188E8A</td><td>classic_bike </td><td>2023-01-12 13:58:01</td><td>2023-01-12 14:13:20</td><td><span style=white-space:pre-wrap>Kimbark Ave &amp; 53rd St        </span></td><td>TA1309000037</td><td><span style=white-space:pre-wrap>Greenwood Ave &amp; 47th St       </span></td><td>TA1308000002</td><td>41.79957</td><td>-87.59475</td><td>41.80983</td><td>-87.59938</td><td>member</td></tr>\n",
              "\t<tr><th scope=row>6</th><td>58E68156DAE3E311</td><td>electric_bike</td><td>2023-01-31 07:18:03</td><td>2023-01-31 07:21:16</td><td>Lakeview Ave &amp; Fullerton Pkwy</td><td>TA1309000019</td><td><span style=white-space:pre-wrap>Hampden Ct &amp; Diversey Ave     </span></td><td><span style=white-space:pre-wrap>202480.0    </span></td><td>41.92607</td><td>-87.63886</td><td>41.93000</td><td>-87.64000</td><td>member</td></tr>\n",
              "</tbody>\n",
              "</table>\n"
            ],
            "text/markdown": "\nA data.frame: 6 × 13\n\n| <!--/--> | ride_id &lt;chr&gt; | rideable_type &lt;chr&gt; | started_at &lt;chr&gt; | ended_at &lt;chr&gt; | start_station_name &lt;chr&gt; | start_station_id &lt;chr&gt; | end_station_name &lt;chr&gt; | end_station_id &lt;chr&gt; | start_lat &lt;dbl&gt; | start_lng &lt;dbl&gt; | end_lat &lt;dbl&gt; | end_lng &lt;dbl&gt; | member_casual &lt;chr&gt; |\n|---|---|---|---|---|---|---|---|---|---|---|---|---|---|\n| 1 | F96D5A74A3E41399 | electric_bike | 2023-01-21 20:05:42 | 2023-01-21 20:16:33 | Lincoln Ave &amp; Fullerton Ave   | TA1309000058 | Hampden Ct &amp; Diversey Ave      | 202480.0     | 41.92407 | -87.64628 | 41.93000 | -87.64000 | member |\n| 2 | 13CB7EB698CEDB88 | classic_bike  | 2023-01-10 15:37:36 | 2023-01-10 15:46:05 | Kimbark Ave &amp; 53rd St         | TA1309000037 | Greenwood Ave &amp; 47th St        | TA1308000002 | 41.79957 | -87.59475 | 41.80983 | -87.59938 | member |\n| 3 | BD88A2E670661CE5 | electric_bike | 2023-01-02 07:51:57 | 2023-01-02 08:05:11 | Western Ave &amp; Lunt Ave        | RP-005       | Valli Produce - Evanston Plaza | 599          | 42.00857 | -87.69048 | 42.03974 | -87.69941 | casual |\n| 4 | C90792D034FED968 | classic_bike  | 2023-01-22 10:52:58 | 2023-01-22 11:01:44 | Kimbark Ave &amp; 53rd St         | TA1309000037 | Greenwood Ave &amp; 47th St        | TA1308000002 | 41.79957 | -87.59475 | 41.80983 | -87.59938 | member |\n| 5 | 3397017529188E8A | classic_bike  | 2023-01-12 13:58:01 | 2023-01-12 14:13:20 | Kimbark Ave &amp; 53rd St         | TA1309000037 | Greenwood Ave &amp; 47th St        | TA1308000002 | 41.79957 | -87.59475 | 41.80983 | -87.59938 | member |\n| 6 | 58E68156DAE3E311 | electric_bike | 2023-01-31 07:18:03 | 2023-01-31 07:21:16 | Lakeview Ave &amp; Fullerton Pkwy | TA1309000019 | Hampden Ct &amp; Diversey Ave      | 202480.0     | 41.92607 | -87.63886 | 41.93000 | -87.64000 | member |\n\n",
            "text/latex": "A data.frame: 6 × 13\n\\begin{tabular}{r|lllllllllllll}\n  & ride\\_id & rideable\\_type & started\\_at & ended\\_at & start\\_station\\_name & start\\_station\\_id & end\\_station\\_name & end\\_station\\_id & start\\_lat & start\\_lng & end\\_lat & end\\_lng & member\\_casual\\\\\n  & <chr> & <chr> & <chr> & <chr> & <chr> & <chr> & <chr> & <chr> & <dbl> & <dbl> & <dbl> & <dbl> & <chr>\\\\\n\\hline\n\t1 & F96D5A74A3E41399 & electric\\_bike & 2023-01-21 20:05:42 & 2023-01-21 20:16:33 & Lincoln Ave \\& Fullerton Ave   & TA1309000058 & Hampden Ct \\& Diversey Ave      & 202480.0     & 41.92407 & -87.64628 & 41.93000 & -87.64000 & member\\\\\n\t2 & 13CB7EB698CEDB88 & classic\\_bike  & 2023-01-10 15:37:36 & 2023-01-10 15:46:05 & Kimbark Ave \\& 53rd St         & TA1309000037 & Greenwood Ave \\& 47th St        & TA1308000002 & 41.79957 & -87.59475 & 41.80983 & -87.59938 & member\\\\\n\t3 & BD88A2E670661CE5 & electric\\_bike & 2023-01-02 07:51:57 & 2023-01-02 08:05:11 & Western Ave \\& Lunt Ave        & RP-005       & Valli Produce - Evanston Plaza & 599          & 42.00857 & -87.69048 & 42.03974 & -87.69941 & casual\\\\\n\t4 & C90792D034FED968 & classic\\_bike  & 2023-01-22 10:52:58 & 2023-01-22 11:01:44 & Kimbark Ave \\& 53rd St         & TA1309000037 & Greenwood Ave \\& 47th St        & TA1308000002 & 41.79957 & -87.59475 & 41.80983 & -87.59938 & member\\\\\n\t5 & 3397017529188E8A & classic\\_bike  & 2023-01-12 13:58:01 & 2023-01-12 14:13:20 & Kimbark Ave \\& 53rd St         & TA1309000037 & Greenwood Ave \\& 47th St        & TA1308000002 & 41.79957 & -87.59475 & 41.80983 & -87.59938 & member\\\\\n\t6 & 58E68156DAE3E311 & electric\\_bike & 2023-01-31 07:18:03 & 2023-01-31 07:21:16 & Lakeview Ave \\& Fullerton Pkwy & TA1309000019 & Hampden Ct \\& Diversey Ave      & 202480.0     & 41.92607 & -87.63886 & 41.93000 & -87.64000 & member\\\\\n\\end{tabular}\n",
            "text/plain": [
              "  ride_id          rideable_type started_at          ended_at           \n",
              "1 F96D5A74A3E41399 electric_bike 2023-01-21 20:05:42 2023-01-21 20:16:33\n",
              "2 13CB7EB698CEDB88 classic_bike  2023-01-10 15:37:36 2023-01-10 15:46:05\n",
              "3 BD88A2E670661CE5 electric_bike 2023-01-02 07:51:57 2023-01-02 08:05:11\n",
              "4 C90792D034FED968 classic_bike  2023-01-22 10:52:58 2023-01-22 11:01:44\n",
              "5 3397017529188E8A classic_bike  2023-01-12 13:58:01 2023-01-12 14:13:20\n",
              "6 58E68156DAE3E311 electric_bike 2023-01-31 07:18:03 2023-01-31 07:21:16\n",
              "  start_station_name            start_station_id end_station_name              \n",
              "1 Lincoln Ave & Fullerton Ave   TA1309000058     Hampden Ct & Diversey Ave     \n",
              "2 Kimbark Ave & 53rd St         TA1309000037     Greenwood Ave & 47th St       \n",
              "3 Western Ave & Lunt Ave        RP-005           Valli Produce - Evanston Plaza\n",
              "4 Kimbark Ave & 53rd St         TA1309000037     Greenwood Ave & 47th St       \n",
              "5 Kimbark Ave & 53rd St         TA1309000037     Greenwood Ave & 47th St       \n",
              "6 Lakeview Ave & Fullerton Pkwy TA1309000019     Hampden Ct & Diversey Ave     \n",
              "  end_station_id start_lat start_lng end_lat  end_lng   member_casual\n",
              "1 202480.0       41.92407  -87.64628 41.93000 -87.64000 member       \n",
              "2 TA1308000002   41.79957  -87.59475 41.80983 -87.59938 member       \n",
              "3 599            42.00857  -87.69048 42.03974 -87.69941 casual       \n",
              "4 TA1308000002   41.79957  -87.59475 41.80983 -87.59938 member       \n",
              "5 TA1308000002   41.79957  -87.59475 41.80983 -87.59938 member       \n",
              "6 202480.0       41.92607  -87.63886 41.93000 -87.64000 member       "
            ]
          },
          "metadata": {}
        }
      ]
    },
    {
      "cell_type": "code",
      "source": [
        "summary(bikedata)"
      ],
      "metadata": {
        "colab": {
          "base_uri": "https://localhost:8080/",
          "height": 598
        },
        "id": "W_OnngWk_OKA",
        "outputId": "5d22683b-1dba-4b63-fcb8-939931b6243d"
      },
      "execution_count": null,
      "outputs": [
        {
          "output_type": "display_data",
          "data": {
            "text/plain": [
              "   ride_id          rideable_type       started_at          ended_at        \n",
              " Length:5495804     Length:5495804     Length:5495804     Length:5495804    \n",
              " Class :character   Class :character   Class :character   Class :character  \n",
              " Mode  :character   Mode  :character   Mode  :character   Mode  :character  \n",
              "                                                                            \n",
              "                                                                            \n",
              "                                                                            \n",
              "                                                                            \n",
              " start_station_name start_station_id   end_station_name   end_station_id    \n",
              " Length:5495804     Length:5495804     Length:5495804     Length:5495804    \n",
              " Class :character   Class :character   Class :character   Class :character  \n",
              " Mode  :character   Mode  :character   Mode  :character   Mode  :character  \n",
              "                                                                            \n",
              "                                                                            \n",
              "                                                                            \n",
              "                                                                            \n",
              "   start_lat       start_lng         end_lat         end_lng      \n",
              " Min.   :41.63   Min.   :-87.94   Min.   : 0.00   Min.   :-88.16  \n",
              " 1st Qu.:41.88   1st Qu.:-87.66   1st Qu.:41.88   1st Qu.:-87.66  \n",
              " Median :41.90   Median :-87.64   Median :41.90   Median :-87.64  \n",
              " Mean   :41.90   Mean   :-87.65   Mean   :41.90   Mean   :-87.65  \n",
              " 3rd Qu.:41.93   3rd Qu.:-87.63   3rd Qu.:41.93   3rd Qu.:-87.63  \n",
              " Max.   :42.07   Max.   :-87.46   Max.   :42.18   Max.   :  0.00  \n",
              "                                  NA's   :6751    NA's   :6751    \n",
              " member_casual     \n",
              " Length:5495804    \n",
              " Class :character  \n",
              " Mode  :character  \n",
              "                   \n",
              "                   \n",
              "                   \n",
              "                   "
            ]
          },
          "metadata": {}
        }
      ]
    },
    {
      "cell_type": "code",
      "source": [
        "str(bikedata)"
      ],
      "metadata": {
        "colab": {
          "base_uri": "https://localhost:8080/"
        },
        "id": "liby1v7D_Qtw",
        "outputId": "c6cdcf2f-e582-417e-9040-5a3e567fcbc0"
      },
      "execution_count": null,
      "outputs": [
        {
          "output_type": "stream",
          "name": "stdout",
          "text": [
            "'data.frame':\t5495804 obs. of  13 variables:\n",
            " $ ride_id           : chr  \"F96D5A74A3E41399\" \"13CB7EB698CEDB88\" \"BD88A2E670661CE5\" \"C90792D034FED968\" ...\n",
            " $ rideable_type     : chr  \"electric_bike\" \"classic_bike\" \"electric_bike\" \"classic_bike\" ...\n",
            " $ started_at        : chr  \"2023-01-21 20:05:42\" \"2023-01-10 15:37:36\" \"2023-01-02 07:51:57\" \"2023-01-22 10:52:58\" ...\n",
            " $ ended_at          : chr  \"2023-01-21 20:16:33\" \"2023-01-10 15:46:05\" \"2023-01-02 08:05:11\" \"2023-01-22 11:01:44\" ...\n",
            " $ start_station_name: chr  \"Lincoln Ave & Fullerton Ave\" \"Kimbark Ave & 53rd St\" \"Western Ave & Lunt Ave\" \"Kimbark Ave & 53rd St\" ...\n",
            " $ start_station_id  : chr  \"TA1309000058\" \"TA1309000037\" \"RP-005\" \"TA1309000037\" ...\n",
            " $ end_station_name  : chr  \"Hampden Ct & Diversey Ave\" \"Greenwood Ave & 47th St\" \"Valli Produce - Evanston Plaza\" \"Greenwood Ave & 47th St\" ...\n",
            " $ end_station_id    : chr  \"202480.0\" \"TA1308000002\" \"599\" \"TA1308000002\" ...\n",
            " $ start_lat         : num  41.9 41.8 42 41.8 41.8 ...\n",
            " $ start_lng         : num  -87.6 -87.6 -87.7 -87.6 -87.6 ...\n",
            " $ end_lat           : num  41.9 41.8 42 41.8 41.8 ...\n",
            " $ end_lng           : num  -87.6 -87.6 -87.7 -87.6 -87.6 ...\n",
            " $ member_casual     : chr  \"member\" \"member\" \"casual\" \"member\" ...\n"
          ]
        }
      ]
    },
    {
      "cell_type": "code",
      "source": [
        "glimpse(bikedata)"
      ],
      "metadata": {
        "colab": {
          "base_uri": "https://localhost:8080/"
        },
        "id": "jFLrXxn7AGfj",
        "outputId": "b454034e-cec8-4350-ed8d-2f3095efcbed"
      },
      "execution_count": null,
      "outputs": [
        {
          "output_type": "stream",
          "name": "stdout",
          "text": [
            "Rows: 5,495,804\n",
            "Columns: 13\n",
            "$ ride_id            \u001b[3m\u001b[90m<chr>\u001b[39m\u001b[23m \"F96D5A74A3E41399\", \"13CB7EB698CEDB88\", \"BD88A2E670…\n",
            "$ rideable_type      \u001b[3m\u001b[90m<chr>\u001b[39m\u001b[23m \"electric_bike\", \"classic_bike\", \"electric_bike\", \"…\n",
            "$ started_at         \u001b[3m\u001b[90m<chr>\u001b[39m\u001b[23m \"2023-01-21 20:05:42\", \"2023-01-10 15:37:36\", \"2023…\n",
            "$ ended_at           \u001b[3m\u001b[90m<chr>\u001b[39m\u001b[23m \"2023-01-21 20:16:33\", \"2023-01-10 15:46:05\", \"2023…\n",
            "$ start_station_name \u001b[3m\u001b[90m<chr>\u001b[39m\u001b[23m \"Lincoln Ave & Fullerton Ave\", \"Kimbark Ave & 53rd …\n",
            "$ start_station_id   \u001b[3m\u001b[90m<chr>\u001b[39m\u001b[23m \"TA1309000058\", \"TA1309000037\", \"RP-005\", \"TA130900…\n",
            "$ end_station_name   \u001b[3m\u001b[90m<chr>\u001b[39m\u001b[23m \"Hampden Ct & Diversey Ave\", \"Greenwood Ave & 47th …\n",
            "$ end_station_id     \u001b[3m\u001b[90m<chr>\u001b[39m\u001b[23m \"202480.0\", \"TA1308000002\", \"599\", \"TA1308000002\", …\n",
            "$ start_lat          \u001b[3m\u001b[90m<dbl>\u001b[39m\u001b[23m 41.92407, 41.79957, 42.00857, 41.79957, 41.79957, 4…\n",
            "$ start_lng          \u001b[3m\u001b[90m<dbl>\u001b[39m\u001b[23m -87.64628, -87.59475, -87.69048, -87.59475, -87.594…\n",
            "$ end_lat            \u001b[3m\u001b[90m<dbl>\u001b[39m\u001b[23m 41.93000, 41.80983, 42.03974, 41.80983, 41.80983, 4…\n",
            "$ end_lng            \u001b[3m\u001b[90m<dbl>\u001b[39m\u001b[23m -87.64000, -87.59938, -87.69941, -87.59938, -87.599…\n",
            "$ member_casual      \u001b[3m\u001b[90m<chr>\u001b[39m\u001b[23m \"member\", \"member\", \"casual\", \"member\", \"member\", \"…\n"
          ]
        }
      ]
    },
    {
      "cell_type": "code",
      "source": [
        "colnames(bikedata)"
      ],
      "metadata": {
        "colab": {
          "base_uri": "https://localhost:8080/",
          "height": 52
        },
        "id": "tPvIb1eIDL3T",
        "outputId": "35d7ece2-4085-47e5-9451-a441a9a6c83f"
      },
      "execution_count": null,
      "outputs": [
        {
          "output_type": "display_data",
          "data": {
            "text/html": [
              "<style>\n",
              ".list-inline {list-style: none; margin:0; padding: 0}\n",
              ".list-inline>li {display: inline-block}\n",
              ".list-inline>li:not(:last-child)::after {content: \"\\00b7\"; padding: 0 .5ex}\n",
              "</style>\n",
              "<ol class=list-inline><li>'ride_id'</li><li>'rideable_type'</li><li>'started_at'</li><li>'ended_at'</li><li>'start_station_name'</li><li>'start_station_id'</li><li>'end_station_name'</li><li>'end_station_id'</li><li>'start_lat'</li><li>'start_lng'</li><li>'end_lat'</li><li>'end_lng'</li><li>'member_casual'</li></ol>\n"
            ],
            "text/markdown": "1. 'ride_id'\n2. 'rideable_type'\n3. 'started_at'\n4. 'ended_at'\n5. 'start_station_name'\n6. 'start_station_id'\n7. 'end_station_name'\n8. 'end_station_id'\n9. 'start_lat'\n10. 'start_lng'\n11. 'end_lat'\n12. 'end_lng'\n13. 'member_casual'\n\n\n",
            "text/latex": "\\begin{enumerate*}\n\\item 'ride\\_id'\n\\item 'rideable\\_type'\n\\item 'started\\_at'\n\\item 'ended\\_at'\n\\item 'start\\_station\\_name'\n\\item 'start\\_station\\_id'\n\\item 'end\\_station\\_name'\n\\item 'end\\_station\\_id'\n\\item 'start\\_lat'\n\\item 'start\\_lng'\n\\item 'end\\_lat'\n\\item 'end\\_lng'\n\\item 'member\\_casual'\n\\end{enumerate*}\n",
            "text/plain": [
              " [1] \"ride_id\"            \"rideable_type\"      \"started_at\"        \n",
              " [4] \"ended_at\"           \"start_station_name\" \"start_station_id\"  \n",
              " [7] \"end_station_name\"   \"end_station_id\"     \"start_lat\"         \n",
              "[10] \"start_lng\"          \"end_lat\"            \"end_lng\"           \n",
              "[13] \"member_casual\"     "
            ]
          },
          "metadata": {}
        }
      ]
    },
    {
      "cell_type": "code",
      "source": [
        "bikedata1<- bikedata"
      ],
      "metadata": {
        "id": "HycntC7nSM6Y"
      },
      "execution_count": null,
      "outputs": []
    },
    {
      "cell_type": "markdown",
      "source": [
        "### **Data processing**"
      ],
      "metadata": {
        "id": "Ef8j4fhDWBwG"
      }
    },
    {
      "cell_type": "code",
      "source": [
        "#Prepare Dataset\n",
        "#First check empty data\n",
        "#Count rows with \"na\" values\n",
        "colSums(is.na(bikedata))"
      ],
      "metadata": {
        "colab": {
          "base_uri": "https://localhost:8080/",
          "height": 52
        },
        "id": "SuZ-u1FkGz9r",
        "outputId": "f2d083a3-f684-4989-9db4-ed915ae59fe7"
      },
      "execution_count": null,
      "outputs": [
        {
          "output_type": "display_data",
          "data": {
            "text/html": [
              "<style>\n",
              ".dl-inline {width: auto; margin:0; padding: 0}\n",
              ".dl-inline>dt, .dl-inline>dd {float: none; width: auto; display: inline-block}\n",
              ".dl-inline>dt::after {content: \":\\0020\"; padding-right: .5ex}\n",
              ".dl-inline>dt:not(:first-of-type) {padding-left: .5ex}\n",
              "</style><dl class=dl-inline><dt>ride_id</dt><dd>0</dd><dt>rideable_type</dt><dd>0</dd><dt>started_at</dt><dd>0</dd><dt>ended_at</dt><dd>0</dd><dt>start_station_name</dt><dd>0</dd><dt>start_station_id</dt><dd>0</dd><dt>end_station_name</dt><dd>0</dd><dt>end_station_id</dt><dd>0</dd><dt>start_lat</dt><dd>0</dd><dt>start_lng</dt><dd>0</dd><dt>end_lat</dt><dd>6751</dd><dt>end_lng</dt><dd>6751</dd><dt>member_casual</dt><dd>0</dd></dl>\n"
            ],
            "text/markdown": "ride_id\n:   0rideable_type\n:   0started_at\n:   0ended_at\n:   0start_station_name\n:   0start_station_id\n:   0end_station_name\n:   0end_station_id\n:   0start_lat\n:   0start_lng\n:   0end_lat\n:   6751end_lng\n:   6751member_casual\n:   0\n\n",
            "text/latex": "\\begin{description*}\n\\item[ride\\textbackslash{}\\_id] 0\n\\item[rideable\\textbackslash{}\\_type] 0\n\\item[started\\textbackslash{}\\_at] 0\n\\item[ended\\textbackslash{}\\_at] 0\n\\item[start\\textbackslash{}\\_station\\textbackslash{}\\_name] 0\n\\item[start\\textbackslash{}\\_station\\textbackslash{}\\_id] 0\n\\item[end\\textbackslash{}\\_station\\textbackslash{}\\_name] 0\n\\item[end\\textbackslash{}\\_station\\textbackslash{}\\_id] 0\n\\item[start\\textbackslash{}\\_lat] 0\n\\item[start\\textbackslash{}\\_lng] 0\n\\item[end\\textbackslash{}\\_lat] 6751\n\\item[end\\textbackslash{}\\_lng] 6751\n\\item[member\\textbackslash{}\\_casual] 0\n\\end{description*}\n",
            "text/plain": [
              "           ride_id      rideable_type         started_at           ended_at \n",
              "                 0                  0                  0                  0 \n",
              "start_station_name   start_station_id   end_station_name     end_station_id \n",
              "                 0                  0                  0                  0 \n",
              "         start_lat          start_lng            end_lat            end_lng \n",
              "                 0                  0               6751               6751 \n",
              "     member_casual \n",
              "                 0 "
            ]
          },
          "metadata": {}
        }
      ]
    },
    {
      "cell_type": "code",
      "source": [
        "#Second remove empty data\n",
        "clean_bikedata <- drop_na(bikedata)\n",
        "dim(clean_bikedata) # contain 5489053 raws and  13 col"
      ],
      "metadata": {
        "id": "1HEMaqt3AGis",
        "colab": {
          "base_uri": "https://localhost:8080/",
          "height": 34
        },
        "outputId": "0c77353d-3fc9-40e2-eed4-e45c4f49c12c"
      },
      "execution_count": null,
      "outputs": [
        {
          "output_type": "display_data",
          "data": {
            "text/html": [
              "<style>\n",
              ".list-inline {list-style: none; margin:0; padding: 0}\n",
              ".list-inline>li {display: inline-block}\n",
              ".list-inline>li:not(:last-child)::after {content: \"\\00b7\"; padding: 0 .5ex}\n",
              "</style>\n",
              "<ol class=list-inline><li>5489053</li><li>13</li></ol>\n"
            ],
            "text/markdown": "1. 5489053\n2. 13\n\n\n",
            "text/latex": "\\begin{enumerate*}\n\\item 5489053\n\\item 13\n\\end{enumerate*}\n",
            "text/plain": [
              "[1] 5489053      13"
            ]
          },
          "metadata": {}
        }
      ]
    },
    {
      "cell_type": "code",
      "source": [
        "clean_bikedata <- remove_missing(bikedata)\n",
        "dim(clean_bikedata)"
      ],
      "metadata": {
        "id": "TT7sEDn_AGoq",
        "colab": {
          "base_uri": "https://localhost:8080/",
          "height": 71
        },
        "outputId": "f1f6eeef-f8eb-432a-ed64-0a866169d483"
      },
      "execution_count": null,
      "outputs": [
        {
          "output_type": "stream",
          "name": "stderr",
          "text": [
            "Warning message:\n",
            "“\u001b[1m\u001b[22mRemoved 6751 rows containing missing values.”\n"
          ]
        },
        {
          "output_type": "display_data",
          "data": {
            "text/html": [
              "<style>\n",
              ".list-inline {list-style: none; margin:0; padding: 0}\n",
              ".list-inline>li {display: inline-block}\n",
              ".list-inline>li:not(:last-child)::after {content: \"\\00b7\"; padding: 0 .5ex}\n",
              "</style>\n",
              "<ol class=list-inline><li>5489053</li><li>13</li></ol>\n"
            ],
            "text/markdown": "1. 5489053\n2. 13\n\n\n",
            "text/latex": "\\begin{enumerate*}\n\\item 5489053\n\\item 13\n\\end{enumerate*}\n",
            "text/plain": [
              "[1] 5489053      13"
            ]
          },
          "metadata": {}
        }
      ]
    },
    {
      "cell_type": "code",
      "source": [
        "#Check data after cleaning\n",
        "colSums(is.na(clean_bikedata))"
      ],
      "metadata": {
        "id": "rdkuB6QdAGrU",
        "colab": {
          "base_uri": "https://localhost:8080/",
          "height": 52
        },
        "outputId": "996537ce-03e8-420b-c193-d348b50cebf3"
      },
      "execution_count": null,
      "outputs": [
        {
          "output_type": "display_data",
          "data": {
            "text/html": [
              "<style>\n",
              ".dl-inline {width: auto; margin:0; padding: 0}\n",
              ".dl-inline>dt, .dl-inline>dd {float: none; width: auto; display: inline-block}\n",
              ".dl-inline>dt::after {content: \":\\0020\"; padding-right: .5ex}\n",
              ".dl-inline>dt:not(:first-of-type) {padding-left: .5ex}\n",
              "</style><dl class=dl-inline><dt>ride_id</dt><dd>0</dd><dt>rideable_type</dt><dd>0</dd><dt>started_at</dt><dd>0</dd><dt>ended_at</dt><dd>0</dd><dt>start_station_name</dt><dd>0</dd><dt>start_station_id</dt><dd>0</dd><dt>end_station_name</dt><dd>0</dd><dt>end_station_id</dt><dd>0</dd><dt>start_lat</dt><dd>0</dd><dt>start_lng</dt><dd>0</dd><dt>end_lat</dt><dd>0</dd><dt>end_lng</dt><dd>0</dd><dt>member_casual</dt><dd>0</dd></dl>\n"
            ],
            "text/markdown": "ride_id\n:   0rideable_type\n:   0started_at\n:   0ended_at\n:   0start_station_name\n:   0start_station_id\n:   0end_station_name\n:   0end_station_id\n:   0start_lat\n:   0start_lng\n:   0end_lat\n:   0end_lng\n:   0member_casual\n:   0\n\n",
            "text/latex": "\\begin{description*}\n\\item[ride\\textbackslash{}\\_id] 0\n\\item[rideable\\textbackslash{}\\_type] 0\n\\item[started\\textbackslash{}\\_at] 0\n\\item[ended\\textbackslash{}\\_at] 0\n\\item[start\\textbackslash{}\\_station\\textbackslash{}\\_name] 0\n\\item[start\\textbackslash{}\\_station\\textbackslash{}\\_id] 0\n\\item[end\\textbackslash{}\\_station\\textbackslash{}\\_name] 0\n\\item[end\\textbackslash{}\\_station\\textbackslash{}\\_id] 0\n\\item[start\\textbackslash{}\\_lat] 0\n\\item[start\\textbackslash{}\\_lng] 0\n\\item[end\\textbackslash{}\\_lat] 0\n\\item[end\\textbackslash{}\\_lng] 0\n\\item[member\\textbackslash{}\\_casual] 0\n\\end{description*}\n",
            "text/plain": [
              "           ride_id      rideable_type         started_at           ended_at \n",
              "                 0                  0                  0                  0 \n",
              "start_station_name   start_station_id   end_station_name     end_station_id \n",
              "                 0                  0                  0                  0 \n",
              "         start_lat          start_lng            end_lat            end_lng \n",
              "                 0                  0                  0                  0 \n",
              "     member_casual \n",
              "                 0 "
            ]
          },
          "metadata": {}
        }
      ]
    },
    {
      "cell_type": "code",
      "source": [
        "#convert date as date time\n",
        "clean_bikedata$started_at<- lubridate::as_datetime(clean_bikedata$started_at)\n",
        "clean_bikedata$ended_at <- lubridate::as_datetime(clean_bikedata$ended_at)"
      ],
      "metadata": {
        "id": "xYjvxChVAGxc"
      },
      "execution_count": null,
      "outputs": []
    },
    {
      "cell_type": "code",
      "source": [
        "#split date into date, day, day of week, month\n",
        "clean_bikedata$date <- as.Date(clean_bikedata$started_at)\n",
        "clean_bikedata$day <- format(as.Date(clean_bikedata$date), \"%d\")\n",
        "clean_bikedata$week_day <- format(as.Date(clean_bikedata$date), \"%A\")\n",
        "clean_bikedata$month <- format(as.Date(clean_bikedata$date), \"%b_%y\")\n",
        "#clean_bikedata$year <- format(clean_bikedata$date, \"%Y\")"
      ],
      "metadata": {
        "id": "s-xCS6m4AGuT"
      },
      "execution_count": null,
      "outputs": []
    },
    {
      "cell_type": "code",
      "source": [
        "final_bikedata <- final_bikedata %>%\n",
        "  mutate(started_at = as.POSIXct(started_at, tz = \"\", '%d/%m/%Y %H:%M'), ended_at = as.POSIXct(ended_at, tz = \"\", '%d/%m/%Y %H:%M'))"
      ],
      "metadata": {
        "id": "x8Vw8J6gPc3M"
      },
      "execution_count": null,
      "outputs": []
    },
    {
      "cell_type": "code",
      "source": [
        "final_bikedata$time <- format(final_bikedata$started_at, format = '%H:%M')\n",
        "final_bikedata$time <- as.POSIXct(final_bikedata$time, format = '%H:%M')"
      ],
      "metadata": {
        "id": "DylzoUMGbGhG"
      },
      "execution_count": null,
      "outputs": []
    },
    {
      "cell_type": "code",
      "source": [
        "dim(clean_bikedata)"
      ],
      "metadata": {
        "colab": {
          "base_uri": "https://localhost:8080/",
          "height": 34
        },
        "id": "g--fULrjQmUB",
        "outputId": "0b7ee436-046a-4d4d-fe5d-7b2a70825238"
      },
      "execution_count": null,
      "outputs": [
        {
          "output_type": "display_data",
          "data": {
            "text/html": [
              "<style>\n",
              ".list-inline {list-style: none; margin:0; padding: 0}\n",
              ".list-inline>li {display: inline-block}\n",
              ".list-inline>li:not(:last-child)::after {content: \"\\00b7\"; padding: 0 .5ex}\n",
              "</style>\n",
              "<ol class=list-inline><li>5489053</li><li>17</li></ol>\n"
            ],
            "text/markdown": "1. 5489053\n2. 17\n\n\n",
            "text/latex": "\\begin{enumerate*}\n\\item 5489053\n\\item 17\n\\end{enumerate*}\n",
            "text/plain": [
              "[1] 5489053      17"
            ]
          },
          "metadata": {}
        }
      ]
    },
    {
      "cell_type": "code",
      "source": [
        "#Add ride time duration column\n",
        "clean_bikedata$time_duration  <- difftime(clean_bikedata$ended_at, clean_bikedata$started_at, units = \"mins\")\n",
        "dim(clean_bikedata)"
      ],
      "metadata": {
        "id": "WpWIQjo6AG0m",
        "colab": {
          "base_uri": "https://localhost:8080/",
          "height": 34
        },
        "outputId": "251814bd-4503-405b-f059-4305b073c9f9"
      },
      "execution_count": null,
      "outputs": [
        {
          "output_type": "display_data",
          "data": {
            "text/html": [
              "<style>\n",
              ".list-inline {list-style: none; margin:0; padding: 0}\n",
              ".list-inline>li {display: inline-block}\n",
              ".list-inline>li:not(:last-child)::after {content: \"\\00b7\"; padding: 0 .5ex}\n",
              "</style>\n",
              "<ol class=list-inline><li>5489053</li><li>18</li></ol>\n"
            ],
            "text/markdown": "1. 5489053\n2. 18\n\n\n",
            "text/latex": "\\begin{enumerate*}\n\\item 5489053\n\\item 18\n\\end{enumerate*}\n",
            "text/plain": [
              "[1] 5489053      18"
            ]
          },
          "metadata": {}
        }
      ]
    },
    {
      "cell_type": "code",
      "source": [
        "colnames(clean_bikedata)"
      ],
      "metadata": {
        "id": "cF_Z3_RoAG6S",
        "colab": {
          "base_uri": "https://localhost:8080/",
          "height": 52
        },
        "outputId": "f3419c33-a3af-471b-da16-03c9f9314d06"
      },
      "execution_count": null,
      "outputs": [
        {
          "output_type": "display_data",
          "data": {
            "text/html": [
              "<style>\n",
              ".list-inline {list-style: none; margin:0; padding: 0}\n",
              ".list-inline>li {display: inline-block}\n",
              ".list-inline>li:not(:last-child)::after {content: \"\\00b7\"; padding: 0 .5ex}\n",
              "</style>\n",
              "<ol class=list-inline><li>'ride_id'</li><li>'rideable_type'</li><li>'started_at'</li><li>'ended_at'</li><li>'start_station_name'</li><li>'start_station_id'</li><li>'end_station_name'</li><li>'end_station_id'</li><li>'start_lat'</li><li>'start_lng'</li><li>'end_lat'</li><li>'end_lng'</li><li>'member_casual'</li><li>'date'</li><li>'day'</li><li>'week_day'</li><li>'month'</li><li>'time_duration'</li></ol>\n"
            ],
            "text/markdown": "1. 'ride_id'\n2. 'rideable_type'\n3. 'started_at'\n4. 'ended_at'\n5. 'start_station_name'\n6. 'start_station_id'\n7. 'end_station_name'\n8. 'end_station_id'\n9. 'start_lat'\n10. 'start_lng'\n11. 'end_lat'\n12. 'end_lng'\n13. 'member_casual'\n14. 'date'\n15. 'day'\n16. 'week_day'\n17. 'month'\n18. 'time_duration'\n\n\n",
            "text/latex": "\\begin{enumerate*}\n\\item 'ride\\_id'\n\\item 'rideable\\_type'\n\\item 'started\\_at'\n\\item 'ended\\_at'\n\\item 'start\\_station\\_name'\n\\item 'start\\_station\\_id'\n\\item 'end\\_station\\_name'\n\\item 'end\\_station\\_id'\n\\item 'start\\_lat'\n\\item 'start\\_lng'\n\\item 'end\\_lat'\n\\item 'end\\_lng'\n\\item 'member\\_casual'\n\\item 'date'\n\\item 'day'\n\\item 'week\\_day'\n\\item 'month'\n\\item 'time\\_duration'\n\\end{enumerate*}\n",
            "text/plain": [
              " [1] \"ride_id\"            \"rideable_type\"      \"started_at\"        \n",
              " [4] \"ended_at\"           \"start_station_name\" \"start_station_id\"  \n",
              " [7] \"end_station_name\"   \"end_station_id\"     \"start_lat\"         \n",
              "[10] \"start_lng\"          \"end_lat\"            \"end_lng\"           \n",
              "[13] \"member_casual\"      \"date\"               \"day\"               \n",
              "[16] \"week_day\"           \"month\"              \"time_duration\"     "
            ]
          },
          "metadata": {}
        }
      ]
    },
    {
      "cell_type": "code",
      "source": [
        "#remove rows contain a time duration is equal to or less than 0\n",
        "clean_bikedata <- clean_bikedata[!clean_bikedata$time_duration<=0,]"
      ],
      "metadata": {
        "id": "AyKSTG8VUUfI"
      },
      "execution_count": null,
      "outputs": []
    },
    {
      "cell_type": "code",
      "source": [
        "# check of removing\n",
        "any(clean_bikedata$time_duration <= 0)"
      ],
      "metadata": {
        "colab": {
          "base_uri": "https://localhost:8080/",
          "height": 34
        },
        "id": "SXiw5JOEDT7T",
        "outputId": "2553ba13-3013-4a90-90df-43020e989006"
      },
      "execution_count": null,
      "outputs": [
        {
          "output_type": "display_data",
          "data": {
            "text/html": [
              "FALSE"
            ],
            "text/markdown": "FALSE",
            "text/latex": "FALSE",
            "text/plain": [
              "[1] FALSE"
            ]
          },
          "metadata": {}
        }
      ]
    },
    {
      "cell_type": "code",
      "source": [
        "dim(clean_bikedata)"
      ],
      "metadata": {
        "colab": {
          "base_uri": "https://localhost:8080/",
          "height": 34
        },
        "id": "MFGQodvRUUiC",
        "outputId": "b53a70cc-6296-4651-8be5-125fbf573456"
      },
      "execution_count": null,
      "outputs": [
        {
          "output_type": "display_data",
          "data": {
            "text/html": [
              "<style>\n",
              ".list-inline {list-style: none; margin:0; padding: 0}\n",
              ".list-inline>li {display: inline-block}\n",
              ".list-inline>li:not(:last-child)::after {content: \"\\00b7\"; padding: 0 .5ex}\n",
              "</style>\n",
              "<ol class=list-inline><li>5487839</li><li>18</li></ol>\n"
            ],
            "text/markdown": "1. 5487839\n2. 18\n\n\n",
            "text/latex": "\\begin{enumerate*}\n\\item 5487839\n\\item 18\n\\end{enumerate*}\n",
            "text/plain": [
              "[1] 5487839      18"
            ]
          },
          "metadata": {}
        }
      ]
    },
    {
      "cell_type": "code",
      "source": [
        "#Reaname clos\n",
        "colnames(clean_bikedata)[1] <- \"ride_id\"\n",
        "colnames(clean_bikedata)[2] <- \"rideable_type\"\n",
        "colnames(clean_bikedata)[5] <- \"start_station_name\"\n",
        "colnames(clean_bikedata)[7] <- \"end_station_name\"\n",
        "colnames(clean_bikedata)[13] <- \"member_casual\""
      ],
      "metadata": {
        "id": "XATuX8UEUUnf"
      },
      "execution_count": null,
      "outputs": []
    },
    {
      "cell_type": "code",
      "source": [
        "# Save the cleaned data all col files of Dataset to csv file\n",
        "write.csv(clean_bikedata,file = \"clean_bikedatav2.csv\")"
      ],
      "metadata": {
        "id": "uONLZPtmDkG_"
      },
      "execution_count": null,
      "outputs": []
    },
    {
      "cell_type": "code",
      "source": [
        "#Select the data we are going to use\n",
        "clean_bikedata <- clean_bikedata %>%\n",
        "  select(ride_id, rideable_type, start_station_name, end_station_name, member_casual, day, week_day, month, time_duration)"
      ],
      "metadata": {
        "id": "2OE7IB66UUkx"
      },
      "execution_count": null,
      "outputs": []
    },
    {
      "cell_type": "code",
      "source": [
        "dim(clean_bikedata)"
      ],
      "metadata": {
        "colab": {
          "base_uri": "https://localhost:8080/",
          "height": 34
        },
        "id": "vPk9gO0wUUqP",
        "outputId": "1bbc73bd-b4fa-4667-ac47-e0dd97b5d8a5"
      },
      "execution_count": null,
      "outputs": [
        {
          "output_type": "display_data",
          "data": {
            "text/html": [
              "<style>\n",
              ".list-inline {list-style: none; margin:0; padding: 0}\n",
              ".list-inline>li {display: inline-block}\n",
              ".list-inline>li:not(:last-child)::after {content: \"\\00b7\"; padding: 0 .5ex}\n",
              "</style>\n",
              "<ol class=list-inline><li>5487839</li><li>9</li></ol>\n"
            ],
            "text/markdown": "1. 5487839\n2. 9\n\n\n",
            "text/latex": "\\begin{enumerate*}\n\\item 5487839\n\\item 9\n\\end{enumerate*}\n",
            "text/plain": [
              "[1] 5487839       9"
            ]
          },
          "metadata": {}
        }
      ]
    },
    {
      "cell_type": "code",
      "source": [
        "#Save the cleaned data\n",
        "write.csv(clean_bikedata,file = \"biketrip_cleandv3.csv\")"
      ],
      "metadata": {
        "id": "EMeuTVeYUUtB"
      },
      "execution_count": null,
      "outputs": []
    },
    {
      "cell_type": "markdown",
      "source": [
        "### Analysis of biketrip data"
      ],
      "metadata": {
        "id": "JSjVq4Pxbgir"
      }
    },
    {
      "cell_type": "code",
      "source": [
        "#read cleaned dataset\n",
        "final_bikedata <- read_csv(\"/content/biketrip_cleand.csv\")"
      ],
      "metadata": {
        "id": "wl4bFFzwUUwJ"
      },
      "execution_count": null,
      "outputs": []
    },
    {
      "cell_type": "code",
      "source": [
        "str(final_bikedata)"
      ],
      "metadata": {
        "colab": {
          "base_uri": "https://localhost:8080/"
        },
        "id": "jDT8cYa6Jpe0",
        "outputId": "3e31076c-b4f8-405f-bc8d-2e9efe1a0feb"
      },
      "execution_count": null,
      "outputs": [
        {
          "output_type": "stream",
          "name": "stdout",
          "text": [
            "'data.frame':\t5487839 obs. of  9 variables:\n",
            " $ ride_id           : chr  \"F96D5A74A3E41399\" \"13CB7EB698CEDB88\" \"BD88A2E670661CE5\" \"C90792D034FED968\" ...\n",
            " $ rideable_type     : chr  \"electric_bike\" \"classic_bike\" \"electric_bike\" \"classic_bike\" ...\n",
            " $ start_station_name: chr  \"Lincoln Ave & Fullerton Ave\" \"Kimbark Ave & 53rd St\" \"Western Ave & Lunt Ave\" \"Kimbark Ave & 53rd St\" ...\n",
            " $ end_station_name  : chr  \"Hampden Ct & Diversey Ave\" \"Greenwood Ave & 47th St\" \"Valli Produce - Evanston Plaza\" \"Greenwood Ave & 47th St\" ...\n",
            " $ member_casual     : chr  \"member\" \"member\" \"casual\" \"member\" ...\n",
            " $ day               : chr  \"21\" \"10\" \"02\" \"22\" ...\n",
            " $ week_day          : chr  \"Saturday\" \"Tuesday\" \"Monday\" \"Sunday\" ...\n",
            " $ month             : chr  \"Jan_23\" \"Jan_23\" \"Jan_23\" \"Jan_23\" ...\n",
            " $ time_duration     : 'difftime' num  10.85 8.48333333333333 13.2333333333333 8.76666666666667 ...\n",
            "  ..- attr(*, \"units\")= chr \"mins\"\n"
          ]
        }
      ]
    },
    {
      "cell_type": "code",
      "source": [
        "head(final_bikedata)"
      ],
      "metadata": {
        "colab": {
          "base_uri": "https://localhost:8080/",
          "height": 286
        },
        "id": "v5G4AIa346X7",
        "outputId": "004d1221-95dd-4861-80f4-8e3c2274dec5"
      },
      "execution_count": null,
      "outputs": [
        {
          "output_type": "display_data",
          "data": {
            "text/html": [
              "<table class=\"dataframe\">\n",
              "<caption>A data.frame: 6 × 9</caption>\n",
              "<thead>\n",
              "\t<tr><th></th><th scope=col>ride_id</th><th scope=col>rideable_type</th><th scope=col>start_station_name</th><th scope=col>end_station_name</th><th scope=col>member_casual</th><th scope=col>day</th><th scope=col>week_day</th><th scope=col>month</th><th scope=col>time_duration</th></tr>\n",
              "\t<tr><th></th><th scope=col>&lt;chr&gt;</th><th scope=col>&lt;chr&gt;</th><th scope=col>&lt;chr&gt;</th><th scope=col>&lt;chr&gt;</th><th scope=col>&lt;chr&gt;</th><th scope=col>&lt;chr&gt;</th><th scope=col>&lt;chr&gt;</th><th scope=col>&lt;chr&gt;</th><th scope=col>&lt;drtn&gt;</th></tr>\n",
              "</thead>\n",
              "<tbody>\n",
              "\t<tr><th scope=row>1</th><td>F96D5A74A3E41399</td><td>electric_bike</td><td><span style=white-space:pre-wrap>Lincoln Ave &amp; Fullerton Ave  </span></td><td><span style=white-space:pre-wrap>Hampden Ct &amp; Diversey Ave     </span></td><td>member</td><td>21</td><td>Saturday</td><td>Jan_23</td><td>10.850000 mins</td></tr>\n",
              "\t<tr><th scope=row>2</th><td>13CB7EB698CEDB88</td><td>classic_bike </td><td><span style=white-space:pre-wrap>Kimbark Ave &amp; 53rd St        </span></td><td><span style=white-space:pre-wrap>Greenwood Ave &amp; 47th St       </span></td><td>member</td><td>10</td><td>Tuesday </td><td>Jan_23</td><td> 8.483333 mins</td></tr>\n",
              "\t<tr><th scope=row>3</th><td>BD88A2E670661CE5</td><td>electric_bike</td><td><span style=white-space:pre-wrap>Western Ave &amp; Lunt Ave       </span></td><td>Valli Produce - Evanston Plaza</td><td>casual</td><td>02</td><td><span style=white-space:pre-wrap>Monday  </span></td><td>Jan_23</td><td>13.233333 mins</td></tr>\n",
              "\t<tr><th scope=row>4</th><td>C90792D034FED968</td><td>classic_bike </td><td><span style=white-space:pre-wrap>Kimbark Ave &amp; 53rd St        </span></td><td><span style=white-space:pre-wrap>Greenwood Ave &amp; 47th St       </span></td><td>member</td><td>22</td><td><span style=white-space:pre-wrap>Sunday  </span></td><td>Jan_23</td><td> 8.766667 mins</td></tr>\n",
              "\t<tr><th scope=row>5</th><td>3397017529188E8A</td><td>classic_bike </td><td><span style=white-space:pre-wrap>Kimbark Ave &amp; 53rd St        </span></td><td><span style=white-space:pre-wrap>Greenwood Ave &amp; 47th St       </span></td><td>member</td><td>12</td><td>Thursday</td><td>Jan_23</td><td>15.316667 mins</td></tr>\n",
              "\t<tr><th scope=row>6</th><td>58E68156DAE3E311</td><td>electric_bike</td><td>Lakeview Ave &amp; Fullerton Pkwy</td><td><span style=white-space:pre-wrap>Hampden Ct &amp; Diversey Ave     </span></td><td>member</td><td>31</td><td>Tuesday </td><td>Jan_23</td><td> 3.216667 mins</td></tr>\n",
              "</tbody>\n",
              "</table>\n"
            ],
            "text/markdown": "\nA data.frame: 6 × 9\n\n| <!--/--> | ride_id &lt;chr&gt; | rideable_type &lt;chr&gt; | start_station_name &lt;chr&gt; | end_station_name &lt;chr&gt; | member_casual &lt;chr&gt; | day &lt;chr&gt; | week_day &lt;chr&gt; | month &lt;chr&gt; | time_duration &lt;drtn&gt; |\n|---|---|---|---|---|---|---|---|---|---|\n| 1 | F96D5A74A3E41399 | electric_bike | Lincoln Ave &amp; Fullerton Ave   | Hampden Ct &amp; Diversey Ave      | member | 21 | Saturday | Jan_23 | 10.850000 mins |\n| 2 | 13CB7EB698CEDB88 | classic_bike  | Kimbark Ave &amp; 53rd St         | Greenwood Ave &amp; 47th St        | member | 10 | Tuesday  | Jan_23 |  8.483333 mins |\n| 3 | BD88A2E670661CE5 | electric_bike | Western Ave &amp; Lunt Ave        | Valli Produce - Evanston Plaza | casual | 02 | Monday   | Jan_23 | 13.233333 mins |\n| 4 | C90792D034FED968 | classic_bike  | Kimbark Ave &amp; 53rd St         | Greenwood Ave &amp; 47th St        | member | 22 | Sunday   | Jan_23 |  8.766667 mins |\n| 5 | 3397017529188E8A | classic_bike  | Kimbark Ave &amp; 53rd St         | Greenwood Ave &amp; 47th St        | member | 12 | Thursday | Jan_23 | 15.316667 mins |\n| 6 | 58E68156DAE3E311 | electric_bike | Lakeview Ave &amp; Fullerton Pkwy | Hampden Ct &amp; Diversey Ave      | member | 31 | Tuesday  | Jan_23 |  3.216667 mins |\n\n",
            "text/latex": "A data.frame: 6 × 9\n\\begin{tabular}{r|lllllllll}\n  & ride\\_id & rideable\\_type & start\\_station\\_name & end\\_station\\_name & member\\_casual & day & week\\_day & month & time\\_duration\\\\\n  & <chr> & <chr> & <chr> & <chr> & <chr> & <chr> & <chr> & <chr> & <drtn>\\\\\n\\hline\n\t1 & F96D5A74A3E41399 & electric\\_bike & Lincoln Ave \\& Fullerton Ave   & Hampden Ct \\& Diversey Ave      & member & 21 & Saturday & Jan\\_23 & 10.850000 mins\\\\\n\t2 & 13CB7EB698CEDB88 & classic\\_bike  & Kimbark Ave \\& 53rd St         & Greenwood Ave \\& 47th St        & member & 10 & Tuesday  & Jan\\_23 &  8.483333 mins\\\\\n\t3 & BD88A2E670661CE5 & electric\\_bike & Western Ave \\& Lunt Ave        & Valli Produce - Evanston Plaza & casual & 02 & Monday   & Jan\\_23 & 13.233333 mins\\\\\n\t4 & C90792D034FED968 & classic\\_bike  & Kimbark Ave \\& 53rd St         & Greenwood Ave \\& 47th St        & member & 22 & Sunday   & Jan\\_23 &  8.766667 mins\\\\\n\t5 & 3397017529188E8A & classic\\_bike  & Kimbark Ave \\& 53rd St         & Greenwood Ave \\& 47th St        & member & 12 & Thursday & Jan\\_23 & 15.316667 mins\\\\\n\t6 & 58E68156DAE3E311 & electric\\_bike & Lakeview Ave \\& Fullerton Pkwy & Hampden Ct \\& Diversey Ave      & member & 31 & Tuesday  & Jan\\_23 &  3.216667 mins\\\\\n\\end{tabular}\n",
            "text/plain": [
              "  ride_id          rideable_type start_station_name           \n",
              "1 F96D5A74A3E41399 electric_bike Lincoln Ave & Fullerton Ave  \n",
              "2 13CB7EB698CEDB88 classic_bike  Kimbark Ave & 53rd St        \n",
              "3 BD88A2E670661CE5 electric_bike Western Ave & Lunt Ave       \n",
              "4 C90792D034FED968 classic_bike  Kimbark Ave & 53rd St        \n",
              "5 3397017529188E8A classic_bike  Kimbark Ave & 53rd St        \n",
              "6 58E68156DAE3E311 electric_bike Lakeview Ave & Fullerton Pkwy\n",
              "  end_station_name               member_casual day week_day month \n",
              "1 Hampden Ct & Diversey Ave      member        21  Saturday Jan_23\n",
              "2 Greenwood Ave & 47th St        member        10  Tuesday  Jan_23\n",
              "3 Valli Produce - Evanston Plaza casual        02  Monday   Jan_23\n",
              "4 Greenwood Ave & 47th St        member        22  Sunday   Jan_23\n",
              "5 Greenwood Ave & 47th St        member        12  Thursday Jan_23\n",
              "6 Hampden Ct & Diversey Ave      member        31  Tuesday  Jan_23\n",
              "  time_duration \n",
              "1 10.850000 mins\n",
              "2  8.483333 mins\n",
              "3 13.233333 mins\n",
              "4  8.766667 mins\n",
              "5 15.316667 mins\n",
              "6  3.216667 mins"
            ]
          },
          "metadata": {}
        }
      ]
    },
    {
      "cell_type": "code",
      "source": [
        "str(final_bikedata)\n",
        "names(final_bikedata)"
      ],
      "metadata": {
        "colab": {
          "base_uri": "https://localhost:8080/",
          "height": 234
        },
        "id": "0YoXuH5z2Pqb",
        "outputId": "2031ae4b-12c7-430b-fbd3-4a9856d4cdaf"
      },
      "execution_count": null,
      "outputs": [
        {
          "output_type": "stream",
          "name": "stdout",
          "text": [
            "'data.frame':\t5487839 obs. of  9 variables:\n",
            " $ ride_id           : chr  \"F96D5A74A3E41399\" \"13CB7EB698CEDB88\" \"BD88A2E670661CE5\" \"C90792D034FED968\" ...\n",
            " $ rideable_type     : chr  \"electric_bike\" \"classic_bike\" \"electric_bike\" \"classic_bike\" ...\n",
            " $ start_station_name: chr  \"Lincoln Ave & Fullerton Ave\" \"Kimbark Ave & 53rd St\" \"Western Ave & Lunt Ave\" \"Kimbark Ave & 53rd St\" ...\n",
            " $ end_station_name  : chr  \"Hampden Ct & Diversey Ave\" \"Greenwood Ave & 47th St\" \"Valli Produce - Evanston Plaza\" \"Greenwood Ave & 47th St\" ...\n",
            " $ member_casual     : chr  \"member\" \"member\" \"casual\" \"member\" ...\n",
            " $ day               : chr  \"21\" \"10\" \"02\" \"22\" ...\n",
            " $ week_day          : chr  \"Saturday\" \"Tuesday\" \"Monday\" \"Sunday\" ...\n",
            " $ month             : chr  \"Jan_23\" \"Jan_23\" \"Jan_23\" \"Jan_23\" ...\n",
            " $ time_duration     : 'difftime' num  10.85 8.48333333333333 13.2333333333333 8.76666666666667 ...\n",
            "  ..- attr(*, \"units\")= chr \"mins\"\n"
          ]
        },
        {
          "output_type": "display_data",
          "data": {
            "text/html": [
              "<style>\n",
              ".list-inline {list-style: none; margin:0; padding: 0}\n",
              ".list-inline>li {display: inline-block}\n",
              ".list-inline>li:not(:last-child)::after {content: \"\\00b7\"; padding: 0 .5ex}\n",
              "</style>\n",
              "<ol class=list-inline><li>'ride_id'</li><li>'rideable_type'</li><li>'start_station_name'</li><li>'end_station_name'</li><li>'member_casual'</li><li>'day'</li><li>'week_day'</li><li>'month'</li><li>'time_duration'</li></ol>\n"
            ],
            "text/markdown": "1. 'ride_id'\n2. 'rideable_type'\n3. 'start_station_name'\n4. 'end_station_name'\n5. 'member_casual'\n6. 'day'\n7. 'week_day'\n8. 'month'\n9. 'time_duration'\n\n\n",
            "text/latex": "\\begin{enumerate*}\n\\item 'ride\\_id'\n\\item 'rideable\\_type'\n\\item 'start\\_station\\_name'\n\\item 'end\\_station\\_name'\n\\item 'member\\_casual'\n\\item 'day'\n\\item 'week\\_day'\n\\item 'month'\n\\item 'time\\_duration'\n\\end{enumerate*}\n",
            "text/plain": [
              "[1] \"ride_id\"            \"rideable_type\"      \"start_station_name\"\n",
              "[4] \"end_station_name\"   \"member_casual\"      \"day\"               \n",
              "[7] \"week_day\"           \"month\"              \"time_duration\"     "
            ]
          },
          "metadata": {}
        }
      ]
    },
    {
      "cell_type": "code",
      "source": [
        "final_bikedata$time_duration<- as.numeric(as.character(final_bikedata$time_duration))"
      ],
      "metadata": {
        "id": "qDdSe54nL78q"
      },
      "execution_count": null,
      "outputs": []
    },
    {
      "cell_type": "code",
      "source": [
        "summary(final_bikedata$time_duration)"
      ],
      "metadata": {
        "colab": {
          "base_uri": "https://localhost:8080/",
          "height": 53
        },
        "id": "RP3CP5fvdNsy",
        "outputId": "4011e6c5-ae21-4415-b317-4a5a7b8cdf92"
      },
      "execution_count": null,
      "outputs": [
        {
          "output_type": "display_data",
          "data": {
            "text/plain": [
              "     Min.   1st Qu.    Median      Mean   3rd Qu.      Max. \n",
              "    0.017     5.450     9.617    15.299    17.050 12136.300 "
            ]
          },
          "metadata": {}
        }
      ]
    },
    {
      "cell_type": "code",
      "source": [
        "#Analysis:- min, max, median, average of time_duration\n",
        "View(describe(final_bikedata$time_duration, fast=TRUE))"
      ],
      "metadata": {
        "colab": {
          "base_uri": "https://localhost:8080/",
          "height": 129
        },
        "id": "ZLVD9iKKN6mO",
        "outputId": "ed48674f-a19d-4a66-ad20-614f5e1b6913"
      },
      "execution_count": null,
      "outputs": [
        {
          "output_type": "display_data",
          "data": {
            "text/plain": [
              "   vars n       mean     sd       min        max     range    se        \n",
              "X1 1    5487839 15.29861 33.25706 0.01666667 12136.3 12136.28 0.01419656"
            ],
            "text/html": [
              "<table class=\"dataframe\">\n",
              "<caption>A psych: 1 × 8</caption>\n",
              "<thead>\n",
              "\t<tr><th></th><th scope=col>vars</th><th scope=col>n</th><th scope=col>mean</th><th scope=col>sd</th><th scope=col>min</th><th scope=col>max</th><th scope=col>range</th><th scope=col>se</th></tr>\n",
              "\t<tr><th></th><th scope=col>&lt;dbl&gt;</th><th scope=col>&lt;dbl&gt;</th><th scope=col>&lt;dbl&gt;</th><th scope=col>&lt;dbl&gt;</th><th scope=col>&lt;dbl&gt;</th><th scope=col>&lt;dbl&gt;</th><th scope=col>&lt;dbl&gt;</th><th scope=col>&lt;dbl&gt;</th></tr>\n",
              "</thead>\n",
              "<tbody>\n",
              "\t<tr><th scope=row>X1</th><td>1</td><td>5487839</td><td>15.29861</td><td>33.25706</td><td>0.01666667</td><td>12136.3</td><td>12136.28</td><td>0.01419656</td></tr>\n",
              "</tbody>\n",
              "</table>\n"
            ],
            "text/markdown": "\nA psych: 1 × 8\n\n| <!--/--> | vars &lt;dbl&gt; | n &lt;dbl&gt; | mean &lt;dbl&gt; | sd &lt;dbl&gt; | min &lt;dbl&gt; | max &lt;dbl&gt; | range &lt;dbl&gt; | se &lt;dbl&gt; |\n|---|---|---|---|---|---|---|---|---|\n| X1 | 1 | 5487839 | 15.29861 | 33.25706 | 0.01666667 | 12136.3 | 12136.28 | 0.01419656 |\n\n",
            "text/latex": "A psych: 1 × 8\n\\begin{tabular}{r|llllllll}\n  & vars & n & mean & sd & min & max & range & se\\\\\n  & <dbl> & <dbl> & <dbl> & <dbl> & <dbl> & <dbl> & <dbl> & <dbl>\\\\\n\\hline\n\tX1 & 1 & 5487839 & 15.29861 & 33.25706 & 0.01666667 & 12136.3 & 12136.28 & 0.01419656\\\\\n\\end{tabular}\n"
          },
          "metadata": {}
        }
      ]
    },
    {
      "cell_type": "code",
      "source": [
        "aggregate(final_bikedata$time_duration ~ final_bikedata$member_casual, FUN = mean)"
      ],
      "metadata": {
        "colab": {
          "base_uri": "https://localhost:8080/",
          "height": 161
        },
        "id": "A25PoxcXdNvy",
        "outputId": "69a7c7bd-05ce-45a0-cdd6-cc0d1b24faf0"
      },
      "execution_count": null,
      "outputs": [
        {
          "output_type": "display_data",
          "data": {
            "text/html": [
              "<table class=\"dataframe\">\n",
              "<caption>A data.frame: 2 × 2</caption>\n",
              "<thead>\n",
              "\t<tr><th scope=col>final_bikedata$member_casual</th><th scope=col>final_bikedata$time_duration</th></tr>\n",
              "\t<tr><th scope=col>&lt;chr&gt;</th><th scope=col>&lt;dbl&gt;</th></tr>\n",
              "</thead>\n",
              "<tbody>\n",
              "\t<tr><td>casual</td><td>20.80669</td></tr>\n",
              "\t<tr><td>member</td><td>12.13705</td></tr>\n",
              "</tbody>\n",
              "</table>\n"
            ],
            "text/markdown": "\nA data.frame: 2 × 2\n\n| final_bikedata$member_casual &lt;chr&gt; | final_bikedata$time_duration &lt;dbl&gt; |\n|---|---|\n| casual | 20.80669 |\n| member | 12.13705 |\n\n",
            "text/latex": "A data.frame: 2 × 2\n\\begin{tabular}{ll}\n final\\_bikedata\\$member\\_casual & final\\_bikedata\\$time\\_duration\\\\\n <chr> & <dbl>\\\\\n\\hline\n\t casual & 20.80669\\\\\n\t member & 12.13705\\\\\n\\end{tabular}\n",
            "text/plain": [
              "  final_bikedata$member_casual final_bikedata$time_duration\n",
              "1 casual                       20.80669                    \n",
              "2 member                       12.13705                    "
            ]
          },
          "metadata": {}
        }
      ]
    },
    {
      "cell_type": "code",
      "source": [
        "#order the data of month and week day cils\n",
        "final_bikedata$month <- ordered(final_bikedata$month,levels=c(\"Jan_23\",\"Feb_23\",\"Mar_23\",\n",
        "                                                                   \"Apr_23\",\"May_23\",\"Jun_23\",\"Jul_23\",\n",
        "                                                                   \"Aug_23\",\"Sep_23\",\"Oct_23\",\"Nov_23\"))"
      ],
      "metadata": {
        "id": "-4IstAEKNZsP"
      },
      "execution_count": null,
      "outputs": []
    },
    {
      "cell_type": "code",
      "source": [
        "final_bikedata$week_day <- ordered(final_bikedata$week_day, levels = c(\"Sunday\", \"Monday\", \"Tuesday\",\n",
        "                                                                           \"Wednesday\", \"Thursday\",\n",
        "                                                                           \"Friday\", \"Saturday\"))"
      ],
      "metadata": {
        "id": "QMTGeP1QNvEy"
      },
      "execution_count": null,
      "outputs": []
    },
    {
      "cell_type": "code",
      "source": [
        "#Total number of customers\n",
        "View(table(final_bikedata$member_casual))"
      ],
      "metadata": {
        "colab": {
          "base_uri": "https://localhost:8080/",
          "height": 71
        },
        "id": "Jll9D9VcNZvs",
        "outputId": "a04704a4-feb7-4a3b-b874-9886a64f7672"
      },
      "execution_count": null,
      "outputs": [
        {
          "output_type": "display_data",
          "data": {
            "text/plain": [
              "\n",
              " casual  member \n",
              "2001255 3486584 "
            ]
          },
          "metadata": {}
        }
      ]
    },
    {
      "cell_type": "code",
      "source": [
        "final_bikedata %>%\n",
        "    group_by(member_casual, week_day)"
      ],
      "metadata": {
        "colab": {
          "base_uri": "https://localhost:8080/",
          "height": 1000
        },
        "id": "Wx_FCsuuNZ55",
        "outputId": "4699a18c-9307-4450-9fd2-499a9811818a"
      },
      "execution_count": null,
      "outputs": [
        {
          "output_type": "display_data",
          "data": {
            "text/html": [
              "<table class=\"dataframe\">\n",
              "<caption>A grouped_df: 5487839 × 9</caption>\n",
              "<thead>\n",
              "\t<tr><th scope=col>ride_id</th><th scope=col>rideable_type</th><th scope=col>start_station_name</th><th scope=col>end_station_name</th><th scope=col>member_casual</th><th scope=col>day</th><th scope=col>week_day</th><th scope=col>month</th><th scope=col>time_duration</th></tr>\n",
              "\t<tr><th scope=col>&lt;chr&gt;</th><th scope=col>&lt;chr&gt;</th><th scope=col>&lt;chr&gt;</th><th scope=col>&lt;chr&gt;</th><th scope=col>&lt;chr&gt;</th><th scope=col>&lt;chr&gt;</th><th scope=col>&lt;ord&gt;</th><th scope=col>&lt;ord&gt;</th><th scope=col>&lt;dbl&gt;</th></tr>\n",
              "</thead>\n",
              "<tbody>\n",
              "\t<tr><td>F96D5A74A3E41399</td><td>electric_bike</td><td><span style=white-space:pre-wrap>Lincoln Ave &amp; Fullerton Ave  </span></td><td><span style=white-space:pre-wrap>Hampden Ct &amp; Diversey Ave     </span></td><td>member</td><td>21</td><td>Saturday </td><td>Jan_23</td><td>10.850000</td></tr>\n",
              "\t<tr><td>13CB7EB698CEDB88</td><td>classic_bike </td><td><span style=white-space:pre-wrap>Kimbark Ave &amp; 53rd St        </span></td><td><span style=white-space:pre-wrap>Greenwood Ave &amp; 47th St       </span></td><td>member</td><td>10</td><td><span style=white-space:pre-wrap>Tuesday  </span></td><td>Jan_23</td><td> 8.483333</td></tr>\n",
              "\t<tr><td>BD88A2E670661CE5</td><td>electric_bike</td><td><span style=white-space:pre-wrap>Western Ave &amp; Lunt Ave       </span></td><td>Valli Produce - Evanston Plaza</td><td>casual</td><td>02</td><td><span style=white-space:pre-wrap>Monday   </span></td><td>Jan_23</td><td>13.233333</td></tr>\n",
              "\t<tr><td>C90792D034FED968</td><td>classic_bike </td><td><span style=white-space:pre-wrap>Kimbark Ave &amp; 53rd St        </span></td><td><span style=white-space:pre-wrap>Greenwood Ave &amp; 47th St       </span></td><td>member</td><td>22</td><td><span style=white-space:pre-wrap>Sunday   </span></td><td>Jan_23</td><td> 8.766667</td></tr>\n",
              "\t<tr><td>3397017529188E8A</td><td>classic_bike </td><td><span style=white-space:pre-wrap>Kimbark Ave &amp; 53rd St        </span></td><td><span style=white-space:pre-wrap>Greenwood Ave &amp; 47th St       </span></td><td>member</td><td>12</td><td>Thursday </td><td>Jan_23</td><td>15.316667</td></tr>\n",
              "\t<tr><td>58E68156DAE3E311</td><td>electric_bike</td><td>Lakeview Ave &amp; Fullerton Pkwy</td><td><span style=white-space:pre-wrap>Hampden Ct &amp; Diversey Ave     </span></td><td>member</td><td>31</td><td><span style=white-space:pre-wrap>Tuesday  </span></td><td>Jan_23</td><td> 3.216667</td></tr>\n",
              "\t<tr><td>2F7194B6012A98D4</td><td>electric_bike</td><td><span style=white-space:pre-wrap>Kimbark Ave &amp; 53rd St        </span></td><td><span style=white-space:pre-wrap>Greenwood Ave &amp; 47th St       </span></td><td>member</td><td>15</td><td><span style=white-space:pre-wrap>Sunday   </span></td><td>Jan_23</td><td>14.000000</td></tr>\n",
              "\t<tr><td>DB1CF84154D6A049</td><td>classic_bike </td><td><span style=white-space:pre-wrap>Kimbark Ave &amp; 53rd St        </span></td><td><span style=white-space:pre-wrap>Greenwood Ave &amp; 47th St       </span></td><td>member</td><td>25</td><td>Wednesday</td><td>Jan_23</td><td> 9.350000</td></tr>\n",
              "\t<tr><td>34EAB943F88C4C5D</td><td>electric_bike</td><td><span style=white-space:pre-wrap>Kimbark Ave &amp; 53rd St        </span></td><td><span style=white-space:pre-wrap>Greenwood Ave &amp; 47th St       </span></td><td>member</td><td>25</td><td>Wednesday</td><td>Jan_23</td><td>12.450000</td></tr>\n",
              "\t<tr><td>BC8AB1AA51DA9115</td><td>classic_bike </td><td><span style=white-space:pre-wrap>Kimbark Ave &amp; 53rd St        </span></td><td><span style=white-space:pre-wrap>Greenwood Ave &amp; 47th St       </span></td><td>member</td><td>06</td><td><span style=white-space:pre-wrap>Friday   </span></td><td>Jan_23</td><td>12.550000</td></tr>\n",
              "\t<tr><td>CBE4D3954EB194B7</td><td>classic_bike </td><td><span style=white-space:pre-wrap>Kimbark Ave &amp; 53rd St        </span></td><td><span style=white-space:pre-wrap>Greenwood Ave &amp; 47th St       </span></td><td>member</td><td>05</td><td>Thursday </td><td>Jan_23</td><td> 9.816667</td></tr>\n",
              "\t<tr><td>367CD42F84880491</td><td>classic_bike </td><td><span style=white-space:pre-wrap>Kimbark Ave &amp; 53rd St        </span></td><td><span style=white-space:pre-wrap>Greenwood Ave &amp; 47th St       </span></td><td>member</td><td>03</td><td><span style=white-space:pre-wrap>Tuesday  </span></td><td>Jan_23</td><td> 9.366667</td></tr>\n",
              "\t<tr><td>F3344545150C3222</td><td>electric_bike</td><td><span style=white-space:pre-wrap>Broadway &amp; Waveland Ave      </span></td><td><span style=white-space:pre-wrap>Hampden Ct &amp; Diversey Ave     </span></td><td>member</td><td>09</td><td><span style=white-space:pre-wrap>Monday   </span></td><td>Jan_23</td><td> 7.666667</td></tr>\n",
              "\t<tr><td>9DC70E5EE9D6A93F</td><td>electric_bike</td><td><span style=white-space:pre-wrap>Broadway &amp; Waveland Ave      </span></td><td><span style=white-space:pre-wrap>Hampden Ct &amp; Diversey Ave     </span></td><td>casual</td><td>03</td><td><span style=white-space:pre-wrap>Tuesday  </span></td><td>Jan_23</td><td> 9.950000</td></tr>\n",
              "\t<tr><td>0894DBBB4FA509E5</td><td>electric_bike</td><td><span style=white-space:pre-wrap>Lincoln Park Conservatory    </span></td><td><span style=white-space:pre-wrap>Hampden Ct &amp; Diversey Ave     </span></td><td>member</td><td>12</td><td>Thursday </td><td>Jan_23</td><td> 4.583333</td></tr>\n",
              "\t<tr><td>1E27A12D6C9A7C60</td><td>classic_bike </td><td><span style=white-space:pre-wrap>Clark St &amp; Columbia Ave      </span></td><td><span style=white-space:pre-wrap>Warren Park West              </span></td><td>member</td><td>09</td><td><span style=white-space:pre-wrap>Monday   </span></td><td>Jan_23</td><td> 6.633333</td></tr>\n",
              "\t<tr><td>0B19B6A808BFE539</td><td>electric_bike</td><td>Lakeview Ave &amp; Fullerton Pkwy</td><td><span style=white-space:pre-wrap>Hampden Ct &amp; Diversey Ave     </span></td><td>member</td><td>21</td><td>Saturday </td><td>Jan_23</td><td> 2.500000</td></tr>\n",
              "\t<tr><td>689D537E5D034DA8</td><td>electric_bike</td><td><span style=white-space:pre-wrap>Western Ave &amp; Lunt Ave       </span></td><td>Valli Produce - Evanston Plaza</td><td>casual</td><td>05</td><td>Thursday </td><td>Jan_23</td><td>15.266667</td></tr>\n",
              "\t<tr><td>7BA57BAACF64EAE2</td><td>electric_bike</td><td><span style=white-space:pre-wrap>McClurg Ct &amp; Ohio St         </span></td><td><span style=white-space:pre-wrap>Hampden Ct &amp; Diversey Ave     </span></td><td>member</td><td>17</td><td><span style=white-space:pre-wrap>Tuesday  </span></td><td>Jan_23</td><td>16.033333</td></tr>\n",
              "\t<tr><td>E1C847B8FBA49482</td><td>classic_bike </td><td><span style=white-space:pre-wrap>McClurg Ct &amp; Ohio St         </span></td><td><span style=white-space:pre-wrap>Clark St &amp; Elmdale Ave        </span></td><td>member</td><td>03</td><td><span style=white-space:pre-wrap>Tuesday  </span></td><td>Jan_23</td><td>48.816667</td></tr>\n",
              "\t<tr><td>88549285D389AA6B</td><td>electric_bike</td><td><span style=white-space:pre-wrap>Clarendon Ave &amp; Gordon Ter   </span></td><td><span style=white-space:pre-wrap>Clark St &amp; Elmdale Ave        </span></td><td>member</td><td>02</td><td><span style=white-space:pre-wrap>Monday   </span></td><td>Jan_23</td><td>15.033333</td></tr>\n",
              "\t<tr><td>06EF8DD39CF7170F</td><td>electric_bike</td><td><span style=white-space:pre-wrap>Clark St &amp; Berwyn Ave        </span></td><td><span style=white-space:pre-wrap>Clark St &amp; Elmdale Ave        </span></td><td>member</td><td>01</td><td><span style=white-space:pre-wrap>Sunday   </span></td><td>Jan_23</td><td> 4.033333</td></tr>\n",
              "\t<tr><td>A5CBC7142CA8FAD8</td><td>classic_bike </td><td><span style=white-space:pre-wrap>Clark St &amp; Berwyn Ave        </span></td><td><span style=white-space:pre-wrap>Clark St &amp; Elmdale Ave        </span></td><td>casual</td><td>02</td><td><span style=white-space:pre-wrap>Monday   </span></td><td>Jan_23</td><td> 7.300000</td></tr>\n",
              "\t<tr><td>836AA7376E9DA905</td><td>classic_bike </td><td><span style=white-space:pre-wrap>Clark St &amp; Newport St        </span></td><td><span style=white-space:pre-wrap>Warren Park West              </span></td><td>member</td><td>17</td><td><span style=white-space:pre-wrap>Tuesday  </span></td><td>Jan_23</td><td>29.383333</td></tr>\n",
              "\t<tr><td>2B8E0781ED90C27C</td><td>electric_bike</td><td>Avondale Ave &amp; Irving Park Rd</td><td>Campbell Ave &amp; Irving Park Rd </td><td>casual</td><td>11</td><td>Wednesday</td><td>Jan_23</td><td>10.150000</td></tr>\n",
              "\t<tr><td>8BF68A18C282C01C</td><td>electric_bike</td><td><span style=white-space:pre-wrap>Wilton Ave &amp; Diversey Pkwy   </span></td><td><span style=white-space:pre-wrap>Hampden Ct &amp; Diversey Ave     </span></td><td>member</td><td>16</td><td><span style=white-space:pre-wrap>Monday   </span></td><td>Jan_23</td><td> 8.033333</td></tr>\n",
              "\t<tr><td>325B1DEA4641D815</td><td>electric_bike</td><td><span style=white-space:pre-wrap>Komensky Ave &amp; 55th St       </span></td><td><span style=white-space:pre-wrap>Pulaski Rd &amp; 51st St          </span></td><td>member</td><td>12</td><td>Thursday </td><td>Jan_23</td><td> 7.883333</td></tr>\n",
              "\t<tr><td>A552D9830672F73A</td><td>electric_bike</td><td><span style=white-space:pre-wrap>Clark St &amp; Newport St        </span></td><td><span style=white-space:pre-wrap>Hampden Ct &amp; Diversey Ave     </span></td><td>member</td><td>17</td><td><span style=white-space:pre-wrap>Tuesday  </span></td><td>Jan_23</td><td> 8.666667</td></tr>\n",
              "\t<tr><td>400D3C150A972867</td><td>electric_bike</td><td><span style=white-space:pre-wrap>Clark St &amp; Columbia Ave      </span></td><td><span style=white-space:pre-wrap>Clark St &amp; Elmdale Ave        </span></td><td>casual</td><td>24</td><td><span style=white-space:pre-wrap>Tuesday  </span></td><td>Jan_23</td><td> 5.316667</td></tr>\n",
              "\t<tr><td>6037DB9543179602</td><td>electric_bike</td><td><span style=white-space:pre-wrap>Lincoln Ave &amp; Fullerton Ave  </span></td><td><span style=white-space:pre-wrap>Hampden Ct &amp; Diversey Ave     </span></td><td>member</td><td>13</td><td><span style=white-space:pre-wrap>Friday   </span></td><td>Jan_23</td><td> 5.183333</td></tr>\n",
              "\t<tr><td>⋮</td><td>⋮</td><td>⋮</td><td>⋮</td><td>⋮</td><td>⋮</td><td>⋮</td><td>⋮</td><td>⋮</td></tr>\n",
              "\t<tr><td>22B9414F6B5EB3A7</td><td>electric_bike</td><td>Aberdeen St &amp; Jackson Blvd</td><td><span style=white-space:pre-wrap>Peoria St &amp; Jackson Blvd      </span></td><td>member</td><td>27</td><td><span style=white-space:pre-wrap>Monday   </span></td><td>Nov_23</td><td><span style=white-space:pre-wrap>  1.583333</span></td></tr>\n",
              "\t<tr><td>38E27B15E26EAA2F</td><td>classic_bike </td><td>Aberdeen St &amp; Jackson Blvd</td><td><span style=white-space:pre-wrap>Green St &amp; Madison St         </span></td><td>member</td><td>04</td><td>Saturday </td><td>Nov_23</td><td><span style=white-space:pre-wrap>  8.300000</span></td></tr>\n",
              "\t<tr><td>294228822062A55D</td><td>electric_bike</td><td>Aberdeen St &amp; Jackson Blvd</td><td><span style=white-space:pre-wrap>Peoria St &amp; Jackson Blvd      </span></td><td>member</td><td>17</td><td><span style=white-space:pre-wrap>Friday   </span></td><td>Nov_23</td><td><span style=white-space:pre-wrap>  1.850000</span></td></tr>\n",
              "\t<tr><td>0C70BE69B411915E</td><td>classic_bike </td><td>Aberdeen St &amp; Jackson Blvd</td><td><span style=white-space:pre-wrap>Peoria St &amp; Jackson Blvd      </span></td><td>member</td><td>21</td><td><span style=white-space:pre-wrap>Tuesday  </span></td><td>Nov_23</td><td><span style=white-space:pre-wrap>  2.466667</span></td></tr>\n",
              "\t<tr><td>39D2D74542AD89EC</td><td>classic_bike </td><td>Aberdeen St &amp; Jackson Blvd</td><td><span style=white-space:pre-wrap>Peoria St &amp; Jackson Blvd      </span></td><td>member</td><td>20</td><td><span style=white-space:pre-wrap>Monday   </span></td><td>Nov_23</td><td><span style=white-space:pre-wrap>  2.133333</span></td></tr>\n",
              "\t<tr><td>3141B6C5278D7DB3</td><td>electric_bike</td><td>Aberdeen St &amp; Jackson Blvd</td><td><span style=white-space:pre-wrap>Green St &amp; Madison St         </span></td><td>member</td><td>13</td><td><span style=white-space:pre-wrap>Monday   </span></td><td>Nov_23</td><td><span style=white-space:pre-wrap>  2.966667</span></td></tr>\n",
              "\t<tr><td>28FDCA3C43FBA90D</td><td>classic_bike </td><td>Aberdeen St &amp; Jackson Blvd</td><td><span style=white-space:pre-wrap>Green St &amp; Madison St         </span></td><td>member</td><td>06</td><td><span style=white-space:pre-wrap>Monday   </span></td><td>Nov_23</td><td><span style=white-space:pre-wrap>  5.066667</span></td></tr>\n",
              "\t<tr><td>42DB5E7E79D87FA5</td><td>electric_bike</td><td>Aberdeen St &amp; Jackson Blvd</td><td><span style=white-space:pre-wrap>Green St &amp; Madison St         </span></td><td>member</td><td>13</td><td><span style=white-space:pre-wrap>Monday   </span></td><td>Nov_23</td><td><span style=white-space:pre-wrap>  5.166667</span></td></tr>\n",
              "\t<tr><td>0D0E818D586E1F17</td><td>classic_bike </td><td>Aberdeen St &amp; Jackson Blvd</td><td><span style=white-space:pre-wrap>Peoria St &amp; Jackson Blvd      </span></td><td>member</td><td>19</td><td><span style=white-space:pre-wrap>Sunday   </span></td><td>Nov_23</td><td><span style=white-space:pre-wrap>  3.183333</span></td></tr>\n",
              "\t<tr><td>5714349D5ED3D290</td><td>classic_bike </td><td>Aberdeen St &amp; Jackson Blvd</td><td><span style=white-space:pre-wrap>Peoria St &amp; Jackson Blvd      </span></td><td>member</td><td>14</td><td><span style=white-space:pre-wrap>Tuesday  </span></td><td>Nov_23</td><td><span style=white-space:pre-wrap>  2.333333</span></td></tr>\n",
              "\t<tr><td>DB45116E9312CE4B</td><td>classic_bike </td><td>Clark St &amp; Wellington Ave </td><td>Southport Ave &amp; Wellington Ave</td><td>member</td><td>06</td><td><span style=white-space:pre-wrap>Monday   </span></td><td>Nov_23</td><td><span style=white-space:pre-wrap>  7.383333</span></td></tr>\n",
              "\t<tr><td>A890EC850006442B</td><td>classic_bike </td><td>Aberdeen St &amp; Jackson Blvd</td><td><span style=white-space:pre-wrap>Green St &amp; Madison St         </span></td><td>member</td><td>08</td><td>Wednesday</td><td>Nov_23</td><td><span style=white-space:pre-wrap>  4.900000</span></td></tr>\n",
              "\t<tr><td>4A99FF594446605A</td><td>electric_bike</td><td>Aberdeen St &amp; Jackson Blvd</td><td><span style=white-space:pre-wrap>Green St &amp; Madison St         </span></td><td>member</td><td>15</td><td>Wednesday</td><td>Nov_23</td><td><span style=white-space:pre-wrap>  4.300000</span></td></tr>\n",
              "\t<tr><td>5F405610B276F3A0</td><td>classic_bike </td><td>Clark St &amp; Wellington Ave </td><td><span style=white-space:pre-wrap>Larrabee St &amp; Menomonee St    </span></td><td>member</td><td>13</td><td><span style=white-space:pre-wrap>Monday   </span></td><td>Nov_23</td><td> 11.266667</td></tr>\n",
              "\t<tr><td>BF7020DB63AD4E6A</td><td>classic_bike </td><td>Aberdeen St &amp; Jackson Blvd</td><td><span style=white-space:pre-wrap>Green St &amp; Madison St         </span></td><td>casual</td><td>12</td><td><span style=white-space:pre-wrap>Sunday   </span></td><td>Nov_23</td><td>200.483333</td></tr>\n",
              "\t<tr><td>64FC421D0AACDA81</td><td>classic_bike </td><td>Aberdeen St &amp; Jackson Blvd</td><td><span style=white-space:pre-wrap>Peoria St &amp; Jackson Blvd      </span></td><td>member</td><td>20</td><td><span style=white-space:pre-wrap>Monday   </span></td><td>Nov_23</td><td><span style=white-space:pre-wrap>  2.683333</span></td></tr>\n",
              "\t<tr><td>B922284B161A13AB</td><td>classic_bike </td><td><span style=white-space:pre-wrap>Halsted St &amp; Roscoe St    </span></td><td><span style=white-space:pre-wrap>Seeley Ave &amp; Roscoe St        </span></td><td>member</td><td>05</td><td><span style=white-space:pre-wrap>Sunday   </span></td><td>Nov_23</td><td><span style=white-space:pre-wrap>  8.716667</span></td></tr>\n",
              "\t<tr><td>A588EFBCE3EC5D42</td><td>classic_bike </td><td>Aberdeen St &amp; Jackson Blvd</td><td><span style=white-space:pre-wrap>Green St &amp; Madison St         </span></td><td>member</td><td>29</td><td>Wednesday</td><td>Nov_23</td><td><span style=white-space:pre-wrap>  5.983333</span></td></tr>\n",
              "\t<tr><td>8E787A4539466B9D</td><td>electric_bike</td><td>Aberdeen St &amp; Jackson Blvd</td><td><span style=white-space:pre-wrap>Peoria St &amp; Jackson Blvd      </span></td><td>member</td><td>30</td><td>Thursday </td><td>Nov_23</td><td><span style=white-space:pre-wrap>  3.350000</span></td></tr>\n",
              "\t<tr><td>EADECBCDD5DF953E</td><td>classic_bike </td><td>Aberdeen St &amp; Jackson Blvd</td><td><span style=white-space:pre-wrap>Peoria St &amp; Jackson Blvd      </span></td><td>member</td><td>22</td><td>Wednesday</td><td>Nov_23</td><td><span style=white-space:pre-wrap>  4.933333</span></td></tr>\n",
              "\t<tr><td>0107A082B79A6F93</td><td>electric_bike</td><td><span style=white-space:pre-wrap>Halsted St &amp; Roscoe St    </span></td><td>Southport Ave &amp; Wellington Ave</td><td>member</td><td>09</td><td>Thursday </td><td>Nov_23</td><td><span style=white-space:pre-wrap>  9.933333</span></td></tr>\n",
              "\t<tr><td>559AE4B7C96256DD</td><td>classic_bike </td><td>Clark St &amp; Wellington Ave </td><td>Southport Ave &amp; Wellington Ave</td><td>member</td><td>18</td><td>Saturday </td><td>Nov_23</td><td><span style=white-space:pre-wrap>  5.950000</span></td></tr>\n",
              "\t<tr><td>548BE40A114052C3</td><td>classic_bike </td><td>Aberdeen St &amp; Jackson Blvd</td><td><span style=white-space:pre-wrap>Green St &amp; Madison St         </span></td><td>member</td><td>27</td><td><span style=white-space:pre-wrap>Monday   </span></td><td>Nov_23</td><td><span style=white-space:pre-wrap>  7.116667</span></td></tr>\n",
              "\t<tr><td>55A798851D4B9AE4</td><td>classic_bike </td><td>Aberdeen St &amp; Jackson Blvd</td><td><span style=white-space:pre-wrap>Green St &amp; Madison St         </span></td><td>member</td><td>18</td><td>Saturday </td><td>Nov_23</td><td><span style=white-space:pre-wrap>  3.416667</span></td></tr>\n",
              "\t<tr><td>B80D6930328640ED</td><td>classic_bike </td><td>Aberdeen St &amp; Jackson Blvd</td><td><span style=white-space:pre-wrap>Peoria St &amp; Jackson Blvd      </span></td><td>member</td><td>03</td><td><span style=white-space:pre-wrap>Friday   </span></td><td>Nov_23</td><td><span style=white-space:pre-wrap>  3.083333</span></td></tr>\n",
              "\t<tr><td>30B44BD4C16E688C</td><td>classic_bike </td><td>Clark St &amp; Wellington Ave </td><td>Southport Ave &amp; Wellington Ave</td><td>member</td><td>24</td><td><span style=white-space:pre-wrap>Friday   </span></td><td>Nov_23</td><td><span style=white-space:pre-wrap>  7.600000</span></td></tr>\n",
              "\t<tr><td>094A79892812BAB9</td><td>classic_bike </td><td>Aberdeen St &amp; Jackson Blvd</td><td><span style=white-space:pre-wrap>Peoria St &amp; Jackson Blvd      </span></td><td>member</td><td>06</td><td><span style=white-space:pre-wrap>Monday   </span></td><td>Nov_23</td><td><span style=white-space:pre-wrap>  2.666667</span></td></tr>\n",
              "\t<tr><td>F0A7DF8A44FDA3CB</td><td>electric_bike</td><td><span style=white-space:pre-wrap>Halsted St &amp; Roscoe St    </span></td><td>Southport Ave &amp; Wellington Ave</td><td>member</td><td>10</td><td><span style=white-space:pre-wrap>Friday   </span></td><td>Nov_23</td><td><span style=white-space:pre-wrap>  8.966667</span></td></tr>\n",
              "\t<tr><td>4D5E3685BB913A3C</td><td>classic_bike </td><td>Aberdeen St &amp; Jackson Blvd</td><td><span style=white-space:pre-wrap>Peoria St &amp; Jackson Blvd      </span></td><td>member</td><td>27</td><td><span style=white-space:pre-wrap>Monday   </span></td><td>Nov_23</td><td><span style=white-space:pre-wrap>  2.000000</span></td></tr>\n",
              "\t<tr><td>1FA95C375BE4B6A6</td><td>electric_bike</td><td>Aberdeen St &amp; Jackson Blvd</td><td><span style=white-space:pre-wrap>Peoria St &amp; Jackson Blvd      </span></td><td>member</td><td>20</td><td><span style=white-space:pre-wrap>Monday   </span></td><td>Nov_23</td><td><span style=white-space:pre-wrap>  1.666667</span></td></tr>\n",
              "</tbody>\n",
              "</table>\n"
            ],
            "text/markdown": "\nA grouped_df: 5487839 × 9\n\n| ride_id &lt;chr&gt; | rideable_type &lt;chr&gt; | start_station_name &lt;chr&gt; | end_station_name &lt;chr&gt; | member_casual &lt;chr&gt; | day &lt;chr&gt; | week_day &lt;ord&gt; | month &lt;ord&gt; | time_duration &lt;dbl&gt; |\n|---|---|---|---|---|---|---|---|---|\n| F96D5A74A3E41399 | electric_bike | Lincoln Ave &amp; Fullerton Ave   | Hampden Ct &amp; Diversey Ave      | member | 21 | Saturday  | Jan_23 | 10.850000 |\n| 13CB7EB698CEDB88 | classic_bike  | Kimbark Ave &amp; 53rd St         | Greenwood Ave &amp; 47th St        | member | 10 | Tuesday   | Jan_23 |  8.483333 |\n| BD88A2E670661CE5 | electric_bike | Western Ave &amp; Lunt Ave        | Valli Produce - Evanston Plaza | casual | 02 | Monday    | Jan_23 | 13.233333 |\n| C90792D034FED968 | classic_bike  | Kimbark Ave &amp; 53rd St         | Greenwood Ave &amp; 47th St        | member | 22 | Sunday    | Jan_23 |  8.766667 |\n| 3397017529188E8A | classic_bike  | Kimbark Ave &amp; 53rd St         | Greenwood Ave &amp; 47th St        | member | 12 | Thursday  | Jan_23 | 15.316667 |\n| 58E68156DAE3E311 | electric_bike | Lakeview Ave &amp; Fullerton Pkwy | Hampden Ct &amp; Diversey Ave      | member | 31 | Tuesday   | Jan_23 |  3.216667 |\n| 2F7194B6012A98D4 | electric_bike | Kimbark Ave &amp; 53rd St         | Greenwood Ave &amp; 47th St        | member | 15 | Sunday    | Jan_23 | 14.000000 |\n| DB1CF84154D6A049 | classic_bike  | Kimbark Ave &amp; 53rd St         | Greenwood Ave &amp; 47th St        | member | 25 | Wednesday | Jan_23 |  9.350000 |\n| 34EAB943F88C4C5D | electric_bike | Kimbark Ave &amp; 53rd St         | Greenwood Ave &amp; 47th St        | member | 25 | Wednesday | Jan_23 | 12.450000 |\n| BC8AB1AA51DA9115 | classic_bike  | Kimbark Ave &amp; 53rd St         | Greenwood Ave &amp; 47th St        | member | 06 | Friday    | Jan_23 | 12.550000 |\n| CBE4D3954EB194B7 | classic_bike  | Kimbark Ave &amp; 53rd St         | Greenwood Ave &amp; 47th St        | member | 05 | Thursday  | Jan_23 |  9.816667 |\n| 367CD42F84880491 | classic_bike  | Kimbark Ave &amp; 53rd St         | Greenwood Ave &amp; 47th St        | member | 03 | Tuesday   | Jan_23 |  9.366667 |\n| F3344545150C3222 | electric_bike | Broadway &amp; Waveland Ave       | Hampden Ct &amp; Diversey Ave      | member | 09 | Monday    | Jan_23 |  7.666667 |\n| 9DC70E5EE9D6A93F | electric_bike | Broadway &amp; Waveland Ave       | Hampden Ct &amp; Diversey Ave      | casual | 03 | Tuesday   | Jan_23 |  9.950000 |\n| 0894DBBB4FA509E5 | electric_bike | Lincoln Park Conservatory     | Hampden Ct &amp; Diversey Ave      | member | 12 | Thursday  | Jan_23 |  4.583333 |\n| 1E27A12D6C9A7C60 | classic_bike  | Clark St &amp; Columbia Ave       | Warren Park West               | member | 09 | Monday    | Jan_23 |  6.633333 |\n| 0B19B6A808BFE539 | electric_bike | Lakeview Ave &amp; Fullerton Pkwy | Hampden Ct &amp; Diversey Ave      | member | 21 | Saturday  | Jan_23 |  2.500000 |\n| 689D537E5D034DA8 | electric_bike | Western Ave &amp; Lunt Ave        | Valli Produce - Evanston Plaza | casual | 05 | Thursday  | Jan_23 | 15.266667 |\n| 7BA57BAACF64EAE2 | electric_bike | McClurg Ct &amp; Ohio St          | Hampden Ct &amp; Diversey Ave      | member | 17 | Tuesday   | Jan_23 | 16.033333 |\n| E1C847B8FBA49482 | classic_bike  | McClurg Ct &amp; Ohio St          | Clark St &amp; Elmdale Ave         | member | 03 | Tuesday   | Jan_23 | 48.816667 |\n| 88549285D389AA6B | electric_bike | Clarendon Ave &amp; Gordon Ter    | Clark St &amp; Elmdale Ave         | member | 02 | Monday    | Jan_23 | 15.033333 |\n| 06EF8DD39CF7170F | electric_bike | Clark St &amp; Berwyn Ave         | Clark St &amp; Elmdale Ave         | member | 01 | Sunday    | Jan_23 |  4.033333 |\n| A5CBC7142CA8FAD8 | classic_bike  | Clark St &amp; Berwyn Ave         | Clark St &amp; Elmdale Ave         | casual | 02 | Monday    | Jan_23 |  7.300000 |\n| 836AA7376E9DA905 | classic_bike  | Clark St &amp; Newport St         | Warren Park West               | member | 17 | Tuesday   | Jan_23 | 29.383333 |\n| 2B8E0781ED90C27C | electric_bike | Avondale Ave &amp; Irving Park Rd | Campbell Ave &amp; Irving Park Rd  | casual | 11 | Wednesday | Jan_23 | 10.150000 |\n| 8BF68A18C282C01C | electric_bike | Wilton Ave &amp; Diversey Pkwy    | Hampden Ct &amp; Diversey Ave      | member | 16 | Monday    | Jan_23 |  8.033333 |\n| 325B1DEA4641D815 | electric_bike | Komensky Ave &amp; 55th St        | Pulaski Rd &amp; 51st St           | member | 12 | Thursday  | Jan_23 |  7.883333 |\n| A552D9830672F73A | electric_bike | Clark St &amp; Newport St         | Hampden Ct &amp; Diversey Ave      | member | 17 | Tuesday   | Jan_23 |  8.666667 |\n| 400D3C150A972867 | electric_bike | Clark St &amp; Columbia Ave       | Clark St &amp; Elmdale Ave         | casual | 24 | Tuesday   | Jan_23 |  5.316667 |\n| 6037DB9543179602 | electric_bike | Lincoln Ave &amp; Fullerton Ave   | Hampden Ct &amp; Diversey Ave      | member | 13 | Friday    | Jan_23 |  5.183333 |\n| ⋮ | ⋮ | ⋮ | ⋮ | ⋮ | ⋮ | ⋮ | ⋮ | ⋮ |\n| 22B9414F6B5EB3A7 | electric_bike | Aberdeen St &amp; Jackson Blvd | Peoria St &amp; Jackson Blvd       | member | 27 | Monday    | Nov_23 |   1.583333 |\n| 38E27B15E26EAA2F | classic_bike  | Aberdeen St &amp; Jackson Blvd | Green St &amp; Madison St          | member | 04 | Saturday  | Nov_23 |   8.300000 |\n| 294228822062A55D | electric_bike | Aberdeen St &amp; Jackson Blvd | Peoria St &amp; Jackson Blvd       | member | 17 | Friday    | Nov_23 |   1.850000 |\n| 0C70BE69B411915E | classic_bike  | Aberdeen St &amp; Jackson Blvd | Peoria St &amp; Jackson Blvd       | member | 21 | Tuesday   | Nov_23 |   2.466667 |\n| 39D2D74542AD89EC | classic_bike  | Aberdeen St &amp; Jackson Blvd | Peoria St &amp; Jackson Blvd       | member | 20 | Monday    | Nov_23 |   2.133333 |\n| 3141B6C5278D7DB3 | electric_bike | Aberdeen St &amp; Jackson Blvd | Green St &amp; Madison St          | member | 13 | Monday    | Nov_23 |   2.966667 |\n| 28FDCA3C43FBA90D | classic_bike  | Aberdeen St &amp; Jackson Blvd | Green St &amp; Madison St          | member | 06 | Monday    | Nov_23 |   5.066667 |\n| 42DB5E7E79D87FA5 | electric_bike | Aberdeen St &amp; Jackson Blvd | Green St &amp; Madison St          | member | 13 | Monday    | Nov_23 |   5.166667 |\n| 0D0E818D586E1F17 | classic_bike  | Aberdeen St &amp; Jackson Blvd | Peoria St &amp; Jackson Blvd       | member | 19 | Sunday    | Nov_23 |   3.183333 |\n| 5714349D5ED3D290 | classic_bike  | Aberdeen St &amp; Jackson Blvd | Peoria St &amp; Jackson Blvd       | member | 14 | Tuesday   | Nov_23 |   2.333333 |\n| DB45116E9312CE4B | classic_bike  | Clark St &amp; Wellington Ave  | Southport Ave &amp; Wellington Ave | member | 06 | Monday    | Nov_23 |   7.383333 |\n| A890EC850006442B | classic_bike  | Aberdeen St &amp; Jackson Blvd | Green St &amp; Madison St          | member | 08 | Wednesday | Nov_23 |   4.900000 |\n| 4A99FF594446605A | electric_bike | Aberdeen St &amp; Jackson Blvd | Green St &amp; Madison St          | member | 15 | Wednesday | Nov_23 |   4.300000 |\n| 5F405610B276F3A0 | classic_bike  | Clark St &amp; Wellington Ave  | Larrabee St &amp; Menomonee St     | member | 13 | Monday    | Nov_23 |  11.266667 |\n| BF7020DB63AD4E6A | classic_bike  | Aberdeen St &amp; Jackson Blvd | Green St &amp; Madison St          | casual | 12 | Sunday    | Nov_23 | 200.483333 |\n| 64FC421D0AACDA81 | classic_bike  | Aberdeen St &amp; Jackson Blvd | Peoria St &amp; Jackson Blvd       | member | 20 | Monday    | Nov_23 |   2.683333 |\n| B922284B161A13AB | classic_bike  | Halsted St &amp; Roscoe St     | Seeley Ave &amp; Roscoe St         | member | 05 | Sunday    | Nov_23 |   8.716667 |\n| A588EFBCE3EC5D42 | classic_bike  | Aberdeen St &amp; Jackson Blvd | Green St &amp; Madison St          | member | 29 | Wednesday | Nov_23 |   5.983333 |\n| 8E787A4539466B9D | electric_bike | Aberdeen St &amp; Jackson Blvd | Peoria St &amp; Jackson Blvd       | member | 30 | Thursday  | Nov_23 |   3.350000 |\n| EADECBCDD5DF953E | classic_bike  | Aberdeen St &amp; Jackson Blvd | Peoria St &amp; Jackson Blvd       | member | 22 | Wednesday | Nov_23 |   4.933333 |\n| 0107A082B79A6F93 | electric_bike | Halsted St &amp; Roscoe St     | Southport Ave &amp; Wellington Ave | member | 09 | Thursday  | Nov_23 |   9.933333 |\n| 559AE4B7C96256DD | classic_bike  | Clark St &amp; Wellington Ave  | Southport Ave &amp; Wellington Ave | member | 18 | Saturday  | Nov_23 |   5.950000 |\n| 548BE40A114052C3 | classic_bike  | Aberdeen St &amp; Jackson Blvd | Green St &amp; Madison St          | member | 27 | Monday    | Nov_23 |   7.116667 |\n| 55A798851D4B9AE4 | classic_bike  | Aberdeen St &amp; Jackson Blvd | Green St &amp; Madison St          | member | 18 | Saturday  | Nov_23 |   3.416667 |\n| B80D6930328640ED | classic_bike  | Aberdeen St &amp; Jackson Blvd | Peoria St &amp; Jackson Blvd       | member | 03 | Friday    | Nov_23 |   3.083333 |\n| 30B44BD4C16E688C | classic_bike  | Clark St &amp; Wellington Ave  | Southport Ave &amp; Wellington Ave | member | 24 | Friday    | Nov_23 |   7.600000 |\n| 094A79892812BAB9 | classic_bike  | Aberdeen St &amp; Jackson Blvd | Peoria St &amp; Jackson Blvd       | member | 06 | Monday    | Nov_23 |   2.666667 |\n| F0A7DF8A44FDA3CB | electric_bike | Halsted St &amp; Roscoe St     | Southport Ave &amp; Wellington Ave | member | 10 | Friday    | Nov_23 |   8.966667 |\n| 4D5E3685BB913A3C | classic_bike  | Aberdeen St &amp; Jackson Blvd | Peoria St &amp; Jackson Blvd       | member | 27 | Monday    | Nov_23 |   2.000000 |\n| 1FA95C375BE4B6A6 | electric_bike | Aberdeen St &amp; Jackson Blvd | Peoria St &amp; Jackson Blvd       | member | 20 | Monday    | Nov_23 |   1.666667 |\n\n",
            "text/latex": "A grouped\\_df: 5487839 × 9\n\\begin{tabular}{lllllllll}\n ride\\_id & rideable\\_type & start\\_station\\_name & end\\_station\\_name & member\\_casual & day & week\\_day & month & time\\_duration\\\\\n <chr> & <chr> & <chr> & <chr> & <chr> & <chr> & <ord> & <ord> & <dbl>\\\\\n\\hline\n\t F96D5A74A3E41399 & electric\\_bike & Lincoln Ave \\& Fullerton Ave   & Hampden Ct \\& Diversey Ave      & member & 21 & Saturday  & Jan\\_23 & 10.850000\\\\\n\t 13CB7EB698CEDB88 & classic\\_bike  & Kimbark Ave \\& 53rd St         & Greenwood Ave \\& 47th St        & member & 10 & Tuesday   & Jan\\_23 &  8.483333\\\\\n\t BD88A2E670661CE5 & electric\\_bike & Western Ave \\& Lunt Ave        & Valli Produce - Evanston Plaza & casual & 02 & Monday    & Jan\\_23 & 13.233333\\\\\n\t C90792D034FED968 & classic\\_bike  & Kimbark Ave \\& 53rd St         & Greenwood Ave \\& 47th St        & member & 22 & Sunday    & Jan\\_23 &  8.766667\\\\\n\t 3397017529188E8A & classic\\_bike  & Kimbark Ave \\& 53rd St         & Greenwood Ave \\& 47th St        & member & 12 & Thursday  & Jan\\_23 & 15.316667\\\\\n\t 58E68156DAE3E311 & electric\\_bike & Lakeview Ave \\& Fullerton Pkwy & Hampden Ct \\& Diversey Ave      & member & 31 & Tuesday   & Jan\\_23 &  3.216667\\\\\n\t 2F7194B6012A98D4 & electric\\_bike & Kimbark Ave \\& 53rd St         & Greenwood Ave \\& 47th St        & member & 15 & Sunday    & Jan\\_23 & 14.000000\\\\\n\t DB1CF84154D6A049 & classic\\_bike  & Kimbark Ave \\& 53rd St         & Greenwood Ave \\& 47th St        & member & 25 & Wednesday & Jan\\_23 &  9.350000\\\\\n\t 34EAB943F88C4C5D & electric\\_bike & Kimbark Ave \\& 53rd St         & Greenwood Ave \\& 47th St        & member & 25 & Wednesday & Jan\\_23 & 12.450000\\\\\n\t BC8AB1AA51DA9115 & classic\\_bike  & Kimbark Ave \\& 53rd St         & Greenwood Ave \\& 47th St        & member & 06 & Friday    & Jan\\_23 & 12.550000\\\\\n\t CBE4D3954EB194B7 & classic\\_bike  & Kimbark Ave \\& 53rd St         & Greenwood Ave \\& 47th St        & member & 05 & Thursday  & Jan\\_23 &  9.816667\\\\\n\t 367CD42F84880491 & classic\\_bike  & Kimbark Ave \\& 53rd St         & Greenwood Ave \\& 47th St        & member & 03 & Tuesday   & Jan\\_23 &  9.366667\\\\\n\t F3344545150C3222 & electric\\_bike & Broadway \\& Waveland Ave       & Hampden Ct \\& Diversey Ave      & member & 09 & Monday    & Jan\\_23 &  7.666667\\\\\n\t 9DC70E5EE9D6A93F & electric\\_bike & Broadway \\& Waveland Ave       & Hampden Ct \\& Diversey Ave      & casual & 03 & Tuesday   & Jan\\_23 &  9.950000\\\\\n\t 0894DBBB4FA509E5 & electric\\_bike & Lincoln Park Conservatory     & Hampden Ct \\& Diversey Ave      & member & 12 & Thursday  & Jan\\_23 &  4.583333\\\\\n\t 1E27A12D6C9A7C60 & classic\\_bike  & Clark St \\& Columbia Ave       & Warren Park West               & member & 09 & Monday    & Jan\\_23 &  6.633333\\\\\n\t 0B19B6A808BFE539 & electric\\_bike & Lakeview Ave \\& Fullerton Pkwy & Hampden Ct \\& Diversey Ave      & member & 21 & Saturday  & Jan\\_23 &  2.500000\\\\\n\t 689D537E5D034DA8 & electric\\_bike & Western Ave \\& Lunt Ave        & Valli Produce - Evanston Plaza & casual & 05 & Thursday  & Jan\\_23 & 15.266667\\\\\n\t 7BA57BAACF64EAE2 & electric\\_bike & McClurg Ct \\& Ohio St          & Hampden Ct \\& Diversey Ave      & member & 17 & Tuesday   & Jan\\_23 & 16.033333\\\\\n\t E1C847B8FBA49482 & classic\\_bike  & McClurg Ct \\& Ohio St          & Clark St \\& Elmdale Ave         & member & 03 & Tuesday   & Jan\\_23 & 48.816667\\\\\n\t 88549285D389AA6B & electric\\_bike & Clarendon Ave \\& Gordon Ter    & Clark St \\& Elmdale Ave         & member & 02 & Monday    & Jan\\_23 & 15.033333\\\\\n\t 06EF8DD39CF7170F & electric\\_bike & Clark St \\& Berwyn Ave         & Clark St \\& Elmdale Ave         & member & 01 & Sunday    & Jan\\_23 &  4.033333\\\\\n\t A5CBC7142CA8FAD8 & classic\\_bike  & Clark St \\& Berwyn Ave         & Clark St \\& Elmdale Ave         & casual & 02 & Monday    & Jan\\_23 &  7.300000\\\\\n\t 836AA7376E9DA905 & classic\\_bike  & Clark St \\& Newport St         & Warren Park West               & member & 17 & Tuesday   & Jan\\_23 & 29.383333\\\\\n\t 2B8E0781ED90C27C & electric\\_bike & Avondale Ave \\& Irving Park Rd & Campbell Ave \\& Irving Park Rd  & casual & 11 & Wednesday & Jan\\_23 & 10.150000\\\\\n\t 8BF68A18C282C01C & electric\\_bike & Wilton Ave \\& Diversey Pkwy    & Hampden Ct \\& Diversey Ave      & member & 16 & Monday    & Jan\\_23 &  8.033333\\\\\n\t 325B1DEA4641D815 & electric\\_bike & Komensky Ave \\& 55th St        & Pulaski Rd \\& 51st St           & member & 12 & Thursday  & Jan\\_23 &  7.883333\\\\\n\t A552D9830672F73A & electric\\_bike & Clark St \\& Newport St         & Hampden Ct \\& Diversey Ave      & member & 17 & Tuesday   & Jan\\_23 &  8.666667\\\\\n\t 400D3C150A972867 & electric\\_bike & Clark St \\& Columbia Ave       & Clark St \\& Elmdale Ave         & casual & 24 & Tuesday   & Jan\\_23 &  5.316667\\\\\n\t 6037DB9543179602 & electric\\_bike & Lincoln Ave \\& Fullerton Ave   & Hampden Ct \\& Diversey Ave      & member & 13 & Friday    & Jan\\_23 &  5.183333\\\\\n\t ⋮ & ⋮ & ⋮ & ⋮ & ⋮ & ⋮ & ⋮ & ⋮ & ⋮\\\\\n\t 22B9414F6B5EB3A7 & electric\\_bike & Aberdeen St \\& Jackson Blvd & Peoria St \\& Jackson Blvd       & member & 27 & Monday    & Nov\\_23 &   1.583333\\\\\n\t 38E27B15E26EAA2F & classic\\_bike  & Aberdeen St \\& Jackson Blvd & Green St \\& Madison St          & member & 04 & Saturday  & Nov\\_23 &   8.300000\\\\\n\t 294228822062A55D & electric\\_bike & Aberdeen St \\& Jackson Blvd & Peoria St \\& Jackson Blvd       & member & 17 & Friday    & Nov\\_23 &   1.850000\\\\\n\t 0C70BE69B411915E & classic\\_bike  & Aberdeen St \\& Jackson Blvd & Peoria St \\& Jackson Blvd       & member & 21 & Tuesday   & Nov\\_23 &   2.466667\\\\\n\t 39D2D74542AD89EC & classic\\_bike  & Aberdeen St \\& Jackson Blvd & Peoria St \\& Jackson Blvd       & member & 20 & Monday    & Nov\\_23 &   2.133333\\\\\n\t 3141B6C5278D7DB3 & electric\\_bike & Aberdeen St \\& Jackson Blvd & Green St \\& Madison St          & member & 13 & Monday    & Nov\\_23 &   2.966667\\\\\n\t 28FDCA3C43FBA90D & classic\\_bike  & Aberdeen St \\& Jackson Blvd & Green St \\& Madison St          & member & 06 & Monday    & Nov\\_23 &   5.066667\\\\\n\t 42DB5E7E79D87FA5 & electric\\_bike & Aberdeen St \\& Jackson Blvd & Green St \\& Madison St          & member & 13 & Monday    & Nov\\_23 &   5.166667\\\\\n\t 0D0E818D586E1F17 & classic\\_bike  & Aberdeen St \\& Jackson Blvd & Peoria St \\& Jackson Blvd       & member & 19 & Sunday    & Nov\\_23 &   3.183333\\\\\n\t 5714349D5ED3D290 & classic\\_bike  & Aberdeen St \\& Jackson Blvd & Peoria St \\& Jackson Blvd       & member & 14 & Tuesday   & Nov\\_23 &   2.333333\\\\\n\t DB45116E9312CE4B & classic\\_bike  & Clark St \\& Wellington Ave  & Southport Ave \\& Wellington Ave & member & 06 & Monday    & Nov\\_23 &   7.383333\\\\\n\t A890EC850006442B & classic\\_bike  & Aberdeen St \\& Jackson Blvd & Green St \\& Madison St          & member & 08 & Wednesday & Nov\\_23 &   4.900000\\\\\n\t 4A99FF594446605A & electric\\_bike & Aberdeen St \\& Jackson Blvd & Green St \\& Madison St          & member & 15 & Wednesday & Nov\\_23 &   4.300000\\\\\n\t 5F405610B276F3A0 & classic\\_bike  & Clark St \\& Wellington Ave  & Larrabee St \\& Menomonee St     & member & 13 & Monday    & Nov\\_23 &  11.266667\\\\\n\t BF7020DB63AD4E6A & classic\\_bike  & Aberdeen St \\& Jackson Blvd & Green St \\& Madison St          & casual & 12 & Sunday    & Nov\\_23 & 200.483333\\\\\n\t 64FC421D0AACDA81 & classic\\_bike  & Aberdeen St \\& Jackson Blvd & Peoria St \\& Jackson Blvd       & member & 20 & Monday    & Nov\\_23 &   2.683333\\\\\n\t B922284B161A13AB & classic\\_bike  & Halsted St \\& Roscoe St     & Seeley Ave \\& Roscoe St         & member & 05 & Sunday    & Nov\\_23 &   8.716667\\\\\n\t A588EFBCE3EC5D42 & classic\\_bike  & Aberdeen St \\& Jackson Blvd & Green St \\& Madison St          & member & 29 & Wednesday & Nov\\_23 &   5.983333\\\\\n\t 8E787A4539466B9D & electric\\_bike & Aberdeen St \\& Jackson Blvd & Peoria St \\& Jackson Blvd       & member & 30 & Thursday  & Nov\\_23 &   3.350000\\\\\n\t EADECBCDD5DF953E & classic\\_bike  & Aberdeen St \\& Jackson Blvd & Peoria St \\& Jackson Blvd       & member & 22 & Wednesday & Nov\\_23 &   4.933333\\\\\n\t 0107A082B79A6F93 & electric\\_bike & Halsted St \\& Roscoe St     & Southport Ave \\& Wellington Ave & member & 09 & Thursday  & Nov\\_23 &   9.933333\\\\\n\t 559AE4B7C96256DD & classic\\_bike  & Clark St \\& Wellington Ave  & Southport Ave \\& Wellington Ave & member & 18 & Saturday  & Nov\\_23 &   5.950000\\\\\n\t 548BE40A114052C3 & classic\\_bike  & Aberdeen St \\& Jackson Blvd & Green St \\& Madison St          & member & 27 & Monday    & Nov\\_23 &   7.116667\\\\\n\t 55A798851D4B9AE4 & classic\\_bike  & Aberdeen St \\& Jackson Blvd & Green St \\& Madison St          & member & 18 & Saturday  & Nov\\_23 &   3.416667\\\\\n\t B80D6930328640ED & classic\\_bike  & Aberdeen St \\& Jackson Blvd & Peoria St \\& Jackson Blvd       & member & 03 & Friday    & Nov\\_23 &   3.083333\\\\\n\t 30B44BD4C16E688C & classic\\_bike  & Clark St \\& Wellington Ave  & Southport Ave \\& Wellington Ave & member & 24 & Friday    & Nov\\_23 &   7.600000\\\\\n\t 094A79892812BAB9 & classic\\_bike  & Aberdeen St \\& Jackson Blvd & Peoria St \\& Jackson Blvd       & member & 06 & Monday    & Nov\\_23 &   2.666667\\\\\n\t F0A7DF8A44FDA3CB & electric\\_bike & Halsted St \\& Roscoe St     & Southport Ave \\& Wellington Ave & member & 10 & Friday    & Nov\\_23 &   8.966667\\\\\n\t 4D5E3685BB913A3C & classic\\_bike  & Aberdeen St \\& Jackson Blvd & Peoria St \\& Jackson Blvd       & member & 27 & Monday    & Nov\\_23 &   2.000000\\\\\n\t 1FA95C375BE4B6A6 & electric\\_bike & Aberdeen St \\& Jackson Blvd & Peoria St \\& Jackson Blvd       & member & 20 & Monday    & Nov\\_23 &   1.666667\\\\\n\\end{tabular}\n",
            "text/plain": [
              "        ride_id          rideable_type start_station_name           \n",
              "1       F96D5A74A3E41399 electric_bike Lincoln Ave & Fullerton Ave  \n",
              "2       13CB7EB698CEDB88 classic_bike  Kimbark Ave & 53rd St        \n",
              "3       BD88A2E670661CE5 electric_bike Western Ave & Lunt Ave       \n",
              "4       C90792D034FED968 classic_bike  Kimbark Ave & 53rd St        \n",
              "5       3397017529188E8A classic_bike  Kimbark Ave & 53rd St        \n",
              "6       58E68156DAE3E311 electric_bike Lakeview Ave & Fullerton Pkwy\n",
              "7       2F7194B6012A98D4 electric_bike Kimbark Ave & 53rd St        \n",
              "8       DB1CF84154D6A049 classic_bike  Kimbark Ave & 53rd St        \n",
              "9       34EAB943F88C4C5D electric_bike Kimbark Ave & 53rd St        \n",
              "10      BC8AB1AA51DA9115 classic_bike  Kimbark Ave & 53rd St        \n",
              "11      CBE4D3954EB194B7 classic_bike  Kimbark Ave & 53rd St        \n",
              "12      367CD42F84880491 classic_bike  Kimbark Ave & 53rd St        \n",
              "13      F3344545150C3222 electric_bike Broadway & Waveland Ave      \n",
              "14      9DC70E5EE9D6A93F electric_bike Broadway & Waveland Ave      \n",
              "15      0894DBBB4FA509E5 electric_bike Lincoln Park Conservatory    \n",
              "16      1E27A12D6C9A7C60 classic_bike  Clark St & Columbia Ave      \n",
              "17      0B19B6A808BFE539 electric_bike Lakeview Ave & Fullerton Pkwy\n",
              "18      689D537E5D034DA8 electric_bike Western Ave & Lunt Ave       \n",
              "19      7BA57BAACF64EAE2 electric_bike McClurg Ct & Ohio St         \n",
              "20      E1C847B8FBA49482 classic_bike  McClurg Ct & Ohio St         \n",
              "21      88549285D389AA6B electric_bike Clarendon Ave & Gordon Ter   \n",
              "22      06EF8DD39CF7170F electric_bike Clark St & Berwyn Ave        \n",
              "23      A5CBC7142CA8FAD8 classic_bike  Clark St & Berwyn Ave        \n",
              "24      836AA7376E9DA905 classic_bike  Clark St & Newport St        \n",
              "25      2B8E0781ED90C27C electric_bike Avondale Ave & Irving Park Rd\n",
              "26      8BF68A18C282C01C electric_bike Wilton Ave & Diversey Pkwy   \n",
              "27      325B1DEA4641D815 electric_bike Komensky Ave & 55th St       \n",
              "28      A552D9830672F73A electric_bike Clark St & Newport St        \n",
              "29      400D3C150A972867 electric_bike Clark St & Columbia Ave      \n",
              "30      6037DB9543179602 electric_bike Lincoln Ave & Fullerton Ave  \n",
              "⋮       ⋮                ⋮             ⋮                            \n",
              "5487810 22B9414F6B5EB3A7 electric_bike Aberdeen St & Jackson Blvd   \n",
              "5487811 38E27B15E26EAA2F classic_bike  Aberdeen St & Jackson Blvd   \n",
              "5487812 294228822062A55D electric_bike Aberdeen St & Jackson Blvd   \n",
              "5487813 0C70BE69B411915E classic_bike  Aberdeen St & Jackson Blvd   \n",
              "5487814 39D2D74542AD89EC classic_bike  Aberdeen St & Jackson Blvd   \n",
              "5487815 3141B6C5278D7DB3 electric_bike Aberdeen St & Jackson Blvd   \n",
              "5487816 28FDCA3C43FBA90D classic_bike  Aberdeen St & Jackson Blvd   \n",
              "5487817 42DB5E7E79D87FA5 electric_bike Aberdeen St & Jackson Blvd   \n",
              "5487818 0D0E818D586E1F17 classic_bike  Aberdeen St & Jackson Blvd   \n",
              "5487819 5714349D5ED3D290 classic_bike  Aberdeen St & Jackson Blvd   \n",
              "5487820 DB45116E9312CE4B classic_bike  Clark St & Wellington Ave    \n",
              "5487821 A890EC850006442B classic_bike  Aberdeen St & Jackson Blvd   \n",
              "5487822 4A99FF594446605A electric_bike Aberdeen St & Jackson Blvd   \n",
              "5487823 5F405610B276F3A0 classic_bike  Clark St & Wellington Ave    \n",
              "5487824 BF7020DB63AD4E6A classic_bike  Aberdeen St & Jackson Blvd   \n",
              "5487825 64FC421D0AACDA81 classic_bike  Aberdeen St & Jackson Blvd   \n",
              "5487826 B922284B161A13AB classic_bike  Halsted St & Roscoe St       \n",
              "5487827 A588EFBCE3EC5D42 classic_bike  Aberdeen St & Jackson Blvd   \n",
              "5487828 8E787A4539466B9D electric_bike Aberdeen St & Jackson Blvd   \n",
              "5487829 EADECBCDD5DF953E classic_bike  Aberdeen St & Jackson Blvd   \n",
              "5487830 0107A082B79A6F93 electric_bike Halsted St & Roscoe St       \n",
              "5487831 559AE4B7C96256DD classic_bike  Clark St & Wellington Ave    \n",
              "5487832 548BE40A114052C3 classic_bike  Aberdeen St & Jackson Blvd   \n",
              "5487833 55A798851D4B9AE4 classic_bike  Aberdeen St & Jackson Blvd   \n",
              "5487834 B80D6930328640ED classic_bike  Aberdeen St & Jackson Blvd   \n",
              "5487835 30B44BD4C16E688C classic_bike  Clark St & Wellington Ave    \n",
              "5487836 094A79892812BAB9 classic_bike  Aberdeen St & Jackson Blvd   \n",
              "5487837 F0A7DF8A44FDA3CB electric_bike Halsted St & Roscoe St       \n",
              "5487838 4D5E3685BB913A3C classic_bike  Aberdeen St & Jackson Blvd   \n",
              "5487839 1FA95C375BE4B6A6 electric_bike Aberdeen St & Jackson Blvd   \n",
              "        end_station_name               member_casual day week_day  month \n",
              "1       Hampden Ct & Diversey Ave      member        21  Saturday  Jan_23\n",
              "2       Greenwood Ave & 47th St        member        10  Tuesday   Jan_23\n",
              "3       Valli Produce - Evanston Plaza casual        02  Monday    Jan_23\n",
              "4       Greenwood Ave & 47th St        member        22  Sunday    Jan_23\n",
              "5       Greenwood Ave & 47th St        member        12  Thursday  Jan_23\n",
              "6       Hampden Ct & Diversey Ave      member        31  Tuesday   Jan_23\n",
              "7       Greenwood Ave & 47th St        member        15  Sunday    Jan_23\n",
              "8       Greenwood Ave & 47th St        member        25  Wednesday Jan_23\n",
              "9       Greenwood Ave & 47th St        member        25  Wednesday Jan_23\n",
              "10      Greenwood Ave & 47th St        member        06  Friday    Jan_23\n",
              "11      Greenwood Ave & 47th St        member        05  Thursday  Jan_23\n",
              "12      Greenwood Ave & 47th St        member        03  Tuesday   Jan_23\n",
              "13      Hampden Ct & Diversey Ave      member        09  Monday    Jan_23\n",
              "14      Hampden Ct & Diversey Ave      casual        03  Tuesday   Jan_23\n",
              "15      Hampden Ct & Diversey Ave      member        12  Thursday  Jan_23\n",
              "16      Warren Park West               member        09  Monday    Jan_23\n",
              "17      Hampden Ct & Diversey Ave      member        21  Saturday  Jan_23\n",
              "18      Valli Produce - Evanston Plaza casual        05  Thursday  Jan_23\n",
              "19      Hampden Ct & Diversey Ave      member        17  Tuesday   Jan_23\n",
              "20      Clark St & Elmdale Ave         member        03  Tuesday   Jan_23\n",
              "21      Clark St & Elmdale Ave         member        02  Monday    Jan_23\n",
              "22      Clark St & Elmdale Ave         member        01  Sunday    Jan_23\n",
              "23      Clark St & Elmdale Ave         casual        02  Monday    Jan_23\n",
              "24      Warren Park West               member        17  Tuesday   Jan_23\n",
              "25      Campbell Ave & Irving Park Rd  casual        11  Wednesday Jan_23\n",
              "26      Hampden Ct & Diversey Ave      member        16  Monday    Jan_23\n",
              "27      Pulaski Rd & 51st St           member        12  Thursday  Jan_23\n",
              "28      Hampden Ct & Diversey Ave      member        17  Tuesday   Jan_23\n",
              "29      Clark St & Elmdale Ave         casual        24  Tuesday   Jan_23\n",
              "30      Hampden Ct & Diversey Ave      member        13  Friday    Jan_23\n",
              "⋮       ⋮                              ⋮             ⋮   ⋮         ⋮     \n",
              "5487810 Peoria St & Jackson Blvd       member        27  Monday    Nov_23\n",
              "5487811 Green St & Madison St          member        04  Saturday  Nov_23\n",
              "5487812 Peoria St & Jackson Blvd       member        17  Friday    Nov_23\n",
              "5487813 Peoria St & Jackson Blvd       member        21  Tuesday   Nov_23\n",
              "5487814 Peoria St & Jackson Blvd       member        20  Monday    Nov_23\n",
              "5487815 Green St & Madison St          member        13  Monday    Nov_23\n",
              "5487816 Green St & Madison St          member        06  Monday    Nov_23\n",
              "5487817 Green St & Madison St          member        13  Monday    Nov_23\n",
              "5487818 Peoria St & Jackson Blvd       member        19  Sunday    Nov_23\n",
              "5487819 Peoria St & Jackson Blvd       member        14  Tuesday   Nov_23\n",
              "5487820 Southport Ave & Wellington Ave member        06  Monday    Nov_23\n",
              "5487821 Green St & Madison St          member        08  Wednesday Nov_23\n",
              "5487822 Green St & Madison St          member        15  Wednesday Nov_23\n",
              "5487823 Larrabee St & Menomonee St     member        13  Monday    Nov_23\n",
              "5487824 Green St & Madison St          casual        12  Sunday    Nov_23\n",
              "5487825 Peoria St & Jackson Blvd       member        20  Monday    Nov_23\n",
              "5487826 Seeley Ave & Roscoe St         member        05  Sunday    Nov_23\n",
              "5487827 Green St & Madison St          member        29  Wednesday Nov_23\n",
              "5487828 Peoria St & Jackson Blvd       member        30  Thursday  Nov_23\n",
              "5487829 Peoria St & Jackson Blvd       member        22  Wednesday Nov_23\n",
              "5487830 Southport Ave & Wellington Ave member        09  Thursday  Nov_23\n",
              "5487831 Southport Ave & Wellington Ave member        18  Saturday  Nov_23\n",
              "5487832 Green St & Madison St          member        27  Monday    Nov_23\n",
              "5487833 Green St & Madison St          member        18  Saturday  Nov_23\n",
              "5487834 Peoria St & Jackson Blvd       member        03  Friday    Nov_23\n",
              "5487835 Southport Ave & Wellington Ave member        24  Friday    Nov_23\n",
              "5487836 Peoria St & Jackson Blvd       member        06  Monday    Nov_23\n",
              "5487837 Southport Ave & Wellington Ave member        10  Friday    Nov_23\n",
              "5487838 Peoria St & Jackson Blvd       member        27  Monday    Nov_23\n",
              "5487839 Peoria St & Jackson Blvd       member        20  Monday    Nov_23\n",
              "        time_duration\n",
              "1       10.850000    \n",
              "2        8.483333    \n",
              "3       13.233333    \n",
              "4        8.766667    \n",
              "5       15.316667    \n",
              "6        3.216667    \n",
              "7       14.000000    \n",
              "8        9.350000    \n",
              "9       12.450000    \n",
              "10      12.550000    \n",
              "11       9.816667    \n",
              "12       9.366667    \n",
              "13       7.666667    \n",
              "14       9.950000    \n",
              "15       4.583333    \n",
              "16       6.633333    \n",
              "17       2.500000    \n",
              "18      15.266667    \n",
              "19      16.033333    \n",
              "20      48.816667    \n",
              "21      15.033333    \n",
              "22       4.033333    \n",
              "23       7.300000    \n",
              "24      29.383333    \n",
              "25      10.150000    \n",
              "26       8.033333    \n",
              "27       7.883333    \n",
              "28       8.666667    \n",
              "29       5.316667    \n",
              "30       5.183333    \n",
              "⋮       ⋮            \n",
              "5487810   1.583333   \n",
              "5487811   8.300000   \n",
              "5487812   1.850000   \n",
              "5487813   2.466667   \n",
              "5487814   2.133333   \n",
              "5487815   2.966667   \n",
              "5487816   5.066667   \n",
              "5487817   5.166667   \n",
              "5487818   3.183333   \n",
              "5487819   2.333333   \n",
              "5487820   7.383333   \n",
              "5487821   4.900000   \n",
              "5487822   4.300000   \n",
              "5487823  11.266667   \n",
              "5487824 200.483333   \n",
              "5487825   2.683333   \n",
              "5487826   8.716667   \n",
              "5487827   5.983333   \n",
              "5487828   3.350000   \n",
              "5487829   4.933333   \n",
              "5487830   9.933333   \n",
              "5487831   5.950000   \n",
              "5487832   7.116667   \n",
              "5487833   3.416667   \n",
              "5487834   3.083333   \n",
              "5487835   7.600000   \n",
              "5487836   2.666667   \n",
              "5487837   8.966667   \n",
              "5487838   2.000000   \n",
              "5487839   1.666667   "
            ]
          },
          "metadata": {}
        }
      ]
    },
    {
      "cell_type": "code",
      "source": [
        "final_bikedata %>%\n",
        "    group_by(member_casual, week_day) %>%\n",
        "    summarise(time_duration = n(), .groups = 'drop') %>%\n",
        "    ggplot(aes(x = week_day, y = time_duration, fill = member_casual)) +\n",
        "    geom_bar(position = \"dodge\", stat = \"identity\")"
      ],
      "metadata": {
        "colab": {
          "base_uri": "https://localhost:8080/",
          "height": 437
        },
        "id": "4d54b-nINZ9J",
        "outputId": "2240e2a9-debc-45b4-eaa7-676d3f6f9ba9"
      },
      "execution_count": null,
      "outputs": [
        {
          "output_type": "display_data",
          "data": {
            "text/plain": [
              "plot without title"
            ],
            "image/png": "[encoded data removed]"
          },
          "metadata": {
            "image/png": {
              "width": 420,
              "height": 420
            }
          }
        }
      ]
    },
    {
      "cell_type": "code",
      "source": [
        "final_bikedata %>%\n",
        "    group_by(member_casual, month) %>%\n",
        "    summarise(number_of_rides = n(), .groups = 'drop') %>%\n",
        "    ggplot(aes(x = month, y = number_of_rides, fill = member_casual)) +\n",
        "    geom_bar(position = \"dodge\", stat = \"identity\")"
      ],
      "metadata": {
        "colab": {
          "base_uri": "https://localhost:8080/",
          "height": 437
        },
        "id": "3sl5ATkpJ6VR",
        "outputId": "dd46b5f8-b899-48ed-83cb-fe02a271e822"
      },
      "execution_count": null,
      "outputs": [
        {
          "output_type": "display_data",
          "data": {
            "text/plain": [
              "plot without title"
            ],
            "image/png": "[encoded data removed]"
          },
          "metadata": {
            "image/png": {
              "width": 420,
              "height": 420
            }
          }
        }
      ]
    },
    {
      "cell_type": "code",
      "source": [
        "final_bikedata %>%\n",
        "    group_by(member_casual) %>%\n",
        "    summarize(number_of_rides = n() , .groups = 'drop')"
      ],
      "metadata": {
        "id": "UvLq6rD7NaAJ",
        "colab": {
          "base_uri": "https://localhost:8080/",
          "height": 161
        },
        "outputId": "90f3b98c-ca55-434e-d22c-bed2b0c32211"
      },
      "execution_count": null,
      "outputs": [
        {
          "output_type": "display_data",
          "data": {
            "text/html": [
              "<table class=\"dataframe\">\n",
              "<caption>A tibble: 2 × 2</caption>\n",
              "<thead>\n",
              "\t<tr><th scope=col>member_casual</th><th scope=col>number_of_rides</th></tr>\n",
              "\t<tr><th scope=col>&lt;chr&gt;</th><th scope=col>&lt;int&gt;</th></tr>\n",
              "</thead>\n",
              "<tbody>\n",
              "\t<tr><td>casual</td><td>2001255</td></tr>\n",
              "\t<tr><td>member</td><td>3486584</td></tr>\n",
              "</tbody>\n",
              "</table>\n"
            ],
            "text/markdown": "\nA tibble: 2 × 2\n\n| member_casual &lt;chr&gt; | number_of_rides &lt;int&gt; |\n|---|---|\n| casual | 2001255 |\n| member | 3486584 |\n\n",
            "text/latex": "A tibble: 2 × 2\n\\begin{tabular}{ll}\n member\\_casual & number\\_of\\_rides\\\\\n <chr> & <int>\\\\\n\\hline\n\t casual & 2001255\\\\\n\t member & 3486584\\\\\n\\end{tabular}\n",
            "text/plain": [
              "  member_casual number_of_rides\n",
              "1 casual        2001255        \n",
              "2 member        3486584        "
            ]
          },
          "metadata": {}
        }
      ]
    },
    {
      "cell_type": "code",
      "source": [
        "#Total rides for each customer type in minutes\n",
        "View(setNames(aggregate(time_duration ~ member_casual, final_bikedata, sum), c(\"member_casual\", \"total_time_duration(mins)\")))"
      ],
      "metadata": {
        "id": "bV71OyVuNaDS",
        "colab": {
          "base_uri": "https://localhost:8080/",
          "height": 161
        },
        "outputId": "ac9881e2-9f7f-41e5-f958-497e88196b1d"
      },
      "execution_count": null,
      "outputs": [
        {
          "output_type": "display_data",
          "data": {
            "text/plain": [
              "  member_casual total_time_duration(mins)\n",
              "1 casual        41639497                 \n",
              "2 member        42316830                 "
            ],
            "text/html": [
              "<table class=\"dataframe\">\n",
              "<caption>A data.frame: 2 × 2</caption>\n",
              "<thead>\n",
              "\t<tr><th scope=col>member_casual</th><th scope=col>total_time_duration(mins)</th></tr>\n",
              "\t<tr><th scope=col>&lt;chr&gt;</th><th scope=col>&lt;dbl&gt;</th></tr>\n",
              "</thead>\n",
              "<tbody>\n",
              "\t<tr><td>casual</td><td>41639497</td></tr>\n",
              "\t<tr><td>member</td><td>42316830</td></tr>\n",
              "</tbody>\n",
              "</table>\n"
            ],
            "text/markdown": "\nA data.frame: 2 × 2\n\n| member_casual &lt;chr&gt; | total_time_duration(mins) &lt;dbl&gt; |\n|---|---|\n| casual | 41639497 |\n| member | 42316830 |\n\n",
            "text/latex": "A data.frame: 2 × 2\n\\begin{tabular}{ll}\n member\\_casual & total\\_time\\_duration(mins)\\\\\n <chr> & <dbl>\\\\\n\\hline\n\t casual & 41639497\\\\\n\t member & 42316830\\\\\n\\end{tabular}\n"
          },
          "metadata": {}
        }
      ]
    },
    {
      "cell_type": "code",
      "source": [
        "#Differences between members and casual riders in terms of length of ride\n",
        "View(final_bikedata %>%\n",
        "       group_by(member_casual) %>%\n",
        "       summarise(min_time_duration_mins= min(time_duration), max_time_duration_min = max(time_duration),\n",
        "                 median_time_duration_mins = median(time_duration), mean_time_duration_min = mean(time_duration)))\n"
      ],
      "metadata": {
        "id": "Ak7hok1WNaGb",
        "colab": {
          "base_uri": "https://localhost:8080/",
          "height": 161
        },
        "outputId": "b3bbdbea-3537-40d5-da21-1547b098dd4a"
      },
      "execution_count": null,
      "outputs": [
        {
          "output_type": "display_data",
          "data": {
            "text/plain": [
              "  member_casual min_time_duration_mins max_time_duration_min\n",
              "1 casual        0.01666667             12136.300            \n",
              "2 member        0.01666667              1499.933            \n",
              "  median_time_duration_mins mean_time_duration_min\n",
              "1 11.933333                 20.80669              \n",
              "2  8.566667                 12.13705              "
            ],
            "text/html": [
              "<table class=\"dataframe\">\n",
              "<caption>A tibble: 2 × 5</caption>\n",
              "<thead>\n",
              "\t<tr><th scope=col>member_casual</th><th scope=col>min_time_duration_mins</th><th scope=col>max_time_duration_min</th><th scope=col>median_time_duration_mins</th><th scope=col>mean_time_duration_min</th></tr>\n",
              "\t<tr><th scope=col>&lt;chr&gt;</th><th scope=col>&lt;dbl&gt;</th><th scope=col>&lt;dbl&gt;</th><th scope=col>&lt;dbl&gt;</th><th scope=col>&lt;dbl&gt;</th></tr>\n",
              "</thead>\n",
              "<tbody>\n",
              "\t<tr><td>casual</td><td>0.01666667</td><td>12136.300</td><td>11.933333</td><td>20.80669</td></tr>\n",
              "\t<tr><td>member</td><td>0.01666667</td><td> 1499.933</td><td> 8.566667</td><td>12.13705</td></tr>\n",
              "</tbody>\n",
              "</table>\n"
            ],
            "text/markdown": "\nA tibble: 2 × 5\n\n| member_casual &lt;chr&gt; | min_time_duration_mins &lt;dbl&gt; | max_time_duration_min &lt;dbl&gt; | median_time_duration_mins &lt;dbl&gt; | mean_time_duration_min &lt;dbl&gt; |\n|---|---|---|---|---|\n| casual | 0.01666667 | 12136.300 | 11.933333 | 20.80669 |\n| member | 0.01666667 |  1499.933 |  8.566667 | 12.13705 |\n\n",
            "text/latex": "A tibble: 2 × 5\n\\begin{tabular}{lllll}\n member\\_casual & min\\_time\\_duration\\_mins & max\\_time\\_duration\\_min & median\\_time\\_duration\\_mins & mean\\_time\\_duration\\_min\\\\\n <chr> & <dbl> & <dbl> & <dbl> & <dbl>\\\\\n\\hline\n\t casual & 0.01666667 & 12136.300 & 11.933333 & 20.80669\\\\\n\t member & 0.01666667 &  1499.933 &  8.566667 & 12.13705\\\\\n\\end{tabular}\n"
          },
          "metadata": {}
        }
      ]
    },
    {
      "cell_type": "code",
      "source": [
        "#Analyze rider length data by customer type and month\n",
        "View(final_bikedata %>%\n",
        "       group_by(member_casual, month) %>%\n",
        "       summarise(number_of_rides = n(),\n",
        "                 average_time_duration = mean(time_duration),\n",
        "                 median_time_duration = median(time_duration),\n",
        "                 max_time_duration = max(time_duration),\n",
        "                 min_time_duration = min(time_duration)))"
      ],
      "metadata": {
        "id": "fwNiTdJKdN3l",
        "colab": {
          "base_uri": "https://localhost:8080/",
          "height": 824
        },
        "outputId": "7995944d-e76f-4985-a1b2-9a0cc13a7977"
      },
      "execution_count": null,
      "outputs": [
        {
          "output_type": "stream",
          "name": "stderr",
          "text": [
            "\u001b[1m\u001b[22m`summarise()` has grouped output by 'member_casual'. You can override using the\n",
            "`.groups` argument.\n"
          ]
        },
        {
          "output_type": "display_data",
          "data": {
            "text/plain": [
              "   member_casual month  number_of_rides average_time_duration\n",
              "1  casual        Jan_23  39902          13.59156             \n",
              "2  casual        Feb_23  42920          15.93514             \n",
              "3  casual        Mar_23  62042          15.19352             \n",
              "4  casual        Apr_23 146878          20.39734             \n",
              "5  casual        May_23 233563          22.01047             \n",
              "6  casual        Jun_23 300408          21.71547             \n",
              "7  casual        Jul_23 330142          22.72319             \n",
              "8  casual        Aug_23 309931          21.97265             \n",
              "9  casual        Sep_23 260836          21.24764             \n",
              "10 casual        Oct_23 176553          19.08040             \n",
              "11 casual        Nov_23  98080          16.18683             \n",
              "12 member        Jan_23 150264          10.12421             \n",
              "13 member        Feb_23 147400          10.49254             \n",
              "14 member        Mar_23 196434          10.20721             \n",
              "15 member        Apr_23 279241          11.46012             \n",
              "16 member        May_23 370483          12.56104             \n",
              "17 member        Jun_23 418248          12.85618             \n",
              "18 member        Jul_23 436041          13.20969             \n",
              "19 member        Aug_23 460248          13.19392             \n",
              "20 member        Sep_23 404477          12.63412             \n",
              "21 member        Oct_23 359809          11.58304             \n",
              "22 member        Nov_23 263939          10.99757             \n",
              "   median_time_duration max_time_duration min_time_duration\n",
              "1   7.750000             1499.900         0.01666667       \n",
              "2   8.666667             1462.417         0.03333333       \n",
              "3   8.633333             1496.833         0.01666667       \n",
              "4  11.250000             2349.350         0.01666667       \n",
              "5  12.766667            12136.300         0.01666667       \n",
              "6  12.883333            11152.267         0.01666667       \n",
              "7  13.366667             2457.850         0.01666667       \n",
              "8  12.850000             6891.217         0.01666667       \n",
              "9  12.300000             1499.900         0.01666667       \n",
              "10 10.566667             1499.933         0.01666667       \n",
              "11  9.166667             1499.917         0.01666667       \n",
              "12  6.950000             1499.917         0.01666667       \n",
              "13  7.083333             1499.867         0.01666667       \n",
              "14  7.150000             1480.650         0.01666667       \n",
              "15  7.983333             1433.300         0.01666667       \n",
              "16  8.900000             1353.133         0.01666667       \n",
              "17  9.333333             1499.917         0.01666667       \n",
              "18  9.500000             1499.917         0.01666667       \n",
              "19  9.450000             1499.900         0.01666667       \n",
              "20  9.066667             1499.917         0.01666667       \n",
              "21  8.200000             1499.933         0.01666667       \n",
              "22  7.716667             1499.917         0.01666667       "
            ],
            "text/html": [
              "<table class=\"dataframe\">\n",
              "<caption>A grouped_df: 22 × 7</caption>\n",
              "<thead>\n",
              "\t<tr><th scope=col>member_casual</th><th scope=col>month</th><th scope=col>number_of_rides</th><th scope=col>average_time_duration</th><th scope=col>median_time_duration</th><th scope=col>max_time_duration</th><th scope=col>min_time_duration</th></tr>\n",
              "\t<tr><th scope=col>&lt;chr&gt;</th><th scope=col>&lt;ord&gt;</th><th scope=col>&lt;int&gt;</th><th scope=col>&lt;dbl&gt;</th><th scope=col>&lt;dbl&gt;</th><th scope=col>&lt;dbl&gt;</th><th scope=col>&lt;dbl&gt;</th></tr>\n",
              "</thead>\n",
              "<tbody>\n",
              "\t<tr><td>casual</td><td>Jan_23</td><td> 39902</td><td>13.59156</td><td> 7.750000</td><td> 1499.900</td><td>0.01666667</td></tr>\n",
              "\t<tr><td>casual</td><td>Feb_23</td><td> 42920</td><td>15.93514</td><td> 8.666667</td><td> 1462.417</td><td>0.03333333</td></tr>\n",
              "\t<tr><td>casual</td><td>Mar_23</td><td> 62042</td><td>15.19352</td><td> 8.633333</td><td> 1496.833</td><td>0.01666667</td></tr>\n",
              "\t<tr><td>casual</td><td>Apr_23</td><td>146878</td><td>20.39734</td><td>11.250000</td><td> 2349.350</td><td>0.01666667</td></tr>\n",
              "\t<tr><td>casual</td><td>May_23</td><td>233563</td><td>22.01047</td><td>12.766667</td><td>12136.300</td><td>0.01666667</td></tr>\n",
              "\t<tr><td>casual</td><td>Jun_23</td><td>300408</td><td>21.71547</td><td>12.883333</td><td>11152.267</td><td>0.01666667</td></tr>\n",
              "\t<tr><td>casual</td><td>Jul_23</td><td>330142</td><td>22.72319</td><td>13.366667</td><td> 2457.850</td><td>0.01666667</td></tr>\n",
              "\t<tr><td>casual</td><td>Aug_23</td><td>309931</td><td>21.97265</td><td>12.850000</td><td> 6891.217</td><td>0.01666667</td></tr>\n",
              "\t<tr><td>casual</td><td>Sep_23</td><td>260836</td><td>21.24764</td><td>12.300000</td><td> 1499.900</td><td>0.01666667</td></tr>\n",
              "\t<tr><td>casual</td><td>Oct_23</td><td>176553</td><td>19.08040</td><td>10.566667</td><td> 1499.933</td><td>0.01666667</td></tr>\n",
              "\t<tr><td>casual</td><td>Nov_23</td><td> 98080</td><td>16.18683</td><td> 9.166667</td><td> 1499.917</td><td>0.01666667</td></tr>\n",
              "\t<tr><td>member</td><td>Jan_23</td><td>150264</td><td>10.12421</td><td> 6.950000</td><td> 1499.917</td><td>0.01666667</td></tr>\n",
              "\t<tr><td>member</td><td>Feb_23</td><td>147400</td><td>10.49254</td><td> 7.083333</td><td> 1499.867</td><td>0.01666667</td></tr>\n",
              "\t<tr><td>member</td><td>Mar_23</td><td>196434</td><td>10.20721</td><td> 7.150000</td><td> 1480.650</td><td>0.01666667</td></tr>\n",
              "\t<tr><td>member</td><td>Apr_23</td><td>279241</td><td>11.46012</td><td> 7.983333</td><td> 1433.300</td><td>0.01666667</td></tr>\n",
              "\t<tr><td>member</td><td>May_23</td><td>370483</td><td>12.56104</td><td> 8.900000</td><td> 1353.133</td><td>0.01666667</td></tr>\n",
              "\t<tr><td>member</td><td>Jun_23</td><td>418248</td><td>12.85618</td><td> 9.333333</td><td> 1499.917</td><td>0.01666667</td></tr>\n",
              "\t<tr><td>member</td><td>Jul_23</td><td>436041</td><td>13.20969</td><td> 9.500000</td><td> 1499.917</td><td>0.01666667</td></tr>\n",
              "\t<tr><td>member</td><td>Aug_23</td><td>460248</td><td>13.19392</td><td> 9.450000</td><td> 1499.900</td><td>0.01666667</td></tr>\n",
              "\t<tr><td>member</td><td>Sep_23</td><td>404477</td><td>12.63412</td><td> 9.066667</td><td> 1499.917</td><td>0.01666667</td></tr>\n",
              "\t<tr><td>member</td><td>Oct_23</td><td>359809</td><td>11.58304</td><td> 8.200000</td><td> 1499.933</td><td>0.01666667</td></tr>\n",
              "\t<tr><td>member</td><td>Nov_23</td><td>263939</td><td>10.99757</td><td> 7.716667</td><td> 1499.917</td><td>0.01666667</td></tr>\n",
              "</tbody>\n",
              "</table>\n"
            ],
            "text/markdown": "\nA grouped_df: 22 × 7\n\n| member_casual &lt;chr&gt; | month &lt;ord&gt; | number_of_rides &lt;int&gt; | average_time_duration &lt;dbl&gt; | median_time_duration &lt;dbl&gt; | max_time_duration &lt;dbl&gt; | min_time_duration &lt;dbl&gt; |\n|---|---|---|---|---|---|---|\n| casual | Jan_23 |  39902 | 13.59156 |  7.750000 |  1499.900 | 0.01666667 |\n| casual | Feb_23 |  42920 | 15.93514 |  8.666667 |  1462.417 | 0.03333333 |\n| casual | Mar_23 |  62042 | 15.19352 |  8.633333 |  1496.833 | 0.01666667 |\n| casual | Apr_23 | 146878 | 20.39734 | 11.250000 |  2349.350 | 0.01666667 |\n| casual | May_23 | 233563 | 22.01047 | 12.766667 | 12136.300 | 0.01666667 |\n| casual | Jun_23 | 300408 | 21.71547 | 12.883333 | 11152.267 | 0.01666667 |\n| casual | Jul_23 | 330142 | 22.72319 | 13.366667 |  2457.850 | 0.01666667 |\n| casual | Aug_23 | 309931 | 21.97265 | 12.850000 |  6891.217 | 0.01666667 |\n| casual | Sep_23 | 260836 | 21.24764 | 12.300000 |  1499.900 | 0.01666667 |\n| casual | Oct_23 | 176553 | 19.08040 | 10.566667 |  1499.933 | 0.01666667 |\n| casual | Nov_23 |  98080 | 16.18683 |  9.166667 |  1499.917 | 0.01666667 |\n| member | Jan_23 | 150264 | 10.12421 |  6.950000 |  1499.917 | 0.01666667 |\n| member | Feb_23 | 147400 | 10.49254 |  7.083333 |  1499.867 | 0.01666667 |\n| member | Mar_23 | 196434 | 10.20721 |  7.150000 |  1480.650 | 0.01666667 |\n| member | Apr_23 | 279241 | 11.46012 |  7.983333 |  1433.300 | 0.01666667 |\n| member | May_23 | 370483 | 12.56104 |  8.900000 |  1353.133 | 0.01666667 |\n| member | Jun_23 | 418248 | 12.85618 |  9.333333 |  1499.917 | 0.01666667 |\n| member | Jul_23 | 436041 | 13.20969 |  9.500000 |  1499.917 | 0.01666667 |\n| member | Aug_23 | 460248 | 13.19392 |  9.450000 |  1499.900 | 0.01666667 |\n| member | Sep_23 | 404477 | 12.63412 |  9.066667 |  1499.917 | 0.01666667 |\n| member | Oct_23 | 359809 | 11.58304 |  8.200000 |  1499.933 | 0.01666667 |\n| member | Nov_23 | 263939 | 10.99757 |  7.716667 |  1499.917 | 0.01666667 |\n\n",
            "text/latex": "A grouped\\_df: 22 × 7\n\\begin{tabular}{lllllll}\n member\\_casual & month & number\\_of\\_rides & average\\_time\\_duration & median\\_time\\_duration & max\\_time\\_duration & min\\_time\\_duration\\\\\n <chr> & <ord> & <int> & <dbl> & <dbl> & <dbl> & <dbl>\\\\\n\\hline\n\t casual & Jan\\_23 &  39902 & 13.59156 &  7.750000 &  1499.900 & 0.01666667\\\\\n\t casual & Feb\\_23 &  42920 & 15.93514 &  8.666667 &  1462.417 & 0.03333333\\\\\n\t casual & Mar\\_23 &  62042 & 15.19352 &  8.633333 &  1496.833 & 0.01666667\\\\\n\t casual & Apr\\_23 & 146878 & 20.39734 & 11.250000 &  2349.350 & 0.01666667\\\\\n\t casual & May\\_23 & 233563 & 22.01047 & 12.766667 & 12136.300 & 0.01666667\\\\\n\t casual & Jun\\_23 & 300408 & 21.71547 & 12.883333 & 11152.267 & 0.01666667\\\\\n\t casual & Jul\\_23 & 330142 & 22.72319 & 13.366667 &  2457.850 & 0.01666667\\\\\n\t casual & Aug\\_23 & 309931 & 21.97265 & 12.850000 &  6891.217 & 0.01666667\\\\\n\t casual & Sep\\_23 & 260836 & 21.24764 & 12.300000 &  1499.900 & 0.01666667\\\\\n\t casual & Oct\\_23 & 176553 & 19.08040 & 10.566667 &  1499.933 & 0.01666667\\\\\n\t casual & Nov\\_23 &  98080 & 16.18683 &  9.166667 &  1499.917 & 0.01666667\\\\\n\t member & Jan\\_23 & 150264 & 10.12421 &  6.950000 &  1499.917 & 0.01666667\\\\\n\t member & Feb\\_23 & 147400 & 10.49254 &  7.083333 &  1499.867 & 0.01666667\\\\\n\t member & Mar\\_23 & 196434 & 10.20721 &  7.150000 &  1480.650 & 0.01666667\\\\\n\t member & Apr\\_23 & 279241 & 11.46012 &  7.983333 &  1433.300 & 0.01666667\\\\\n\t member & May\\_23 & 370483 & 12.56104 &  8.900000 &  1353.133 & 0.01666667\\\\\n\t member & Jun\\_23 & 418248 & 12.85618 &  9.333333 &  1499.917 & 0.01666667\\\\\n\t member & Jul\\_23 & 436041 & 13.20969 &  9.500000 &  1499.917 & 0.01666667\\\\\n\t member & Aug\\_23 & 460248 & 13.19392 &  9.450000 &  1499.900 & 0.01666667\\\\\n\t member & Sep\\_23 & 404477 & 12.63412 &  9.066667 &  1499.917 & 0.01666667\\\\\n\t member & Oct\\_23 & 359809 & 11.58304 &  8.200000 &  1499.933 & 0.01666667\\\\\n\t member & Nov\\_23 & 263939 & 10.99757 &  7.716667 &  1499.917 & 0.01666667\\\\\n\\end{tabular}\n"
          },
          "metadata": {}
        }
      ]
    },
    {
      "cell_type": "code",
      "source": [
        "final_bikedata %>%\n",
        "  group_by(member_casual, rideable_type) %>%\n",
        "  summarize(number_of_rides = n()) %>%\n",
        "  ggplot(aes(x= rideable_type, y= number_of_rides, fill = member_casual, group = member_casual))+\n",
        "  geom_col(width = 0.5, position = position_dodge(width = 0.5))"
      ],
      "metadata": {
        "id": "uMwQi_8zdN7S",
        "colab": {
          "base_uri": "https://localhost:8080/",
          "height": 473
        },
        "outputId": "e5399429-0437-4f01-ee1b-f8fa983350b0"
      },
      "execution_count": null,
      "outputs": [
        {
          "output_type": "stream",
          "name": "stderr",
          "text": [
            "\u001b[1m\u001b[22m`summarise()` has grouped output by 'member_casual'. You can override using the\n",
            "`.groups` argument.\n"
          ]
        },
        {
          "output_type": "display_data",
          "data": {
            "text/plain": [
              "plot without title"
            ],
            "image/png": "[encoded data removed]"
          },
          "metadata": {
            "image/png": {
              "width": 420,
              "height": 420
            }
          }
        }
      ]
    },
    {
      "cell_type": "code",
      "source": [
        "#The number of bike type usage\n",
        "final_bikedata %>%\n",
        "  group_by(rideable_type) %>%\n",
        "  summarise(number_of_rides = n())"
      ],
      "metadata": {
        "colab": {
          "base_uri": "https://localhost:8080/",
          "height": 192
        },
        "id": "SKGC-b93NSQY",
        "outputId": "aa99e494-6dfa-4e54-87cf-5751f5b50bee"
      },
      "execution_count": null,
      "outputs": [
        {
          "output_type": "display_data",
          "data": {
            "text/html": [
              "<table class=\"dataframe\">\n",
              "<caption>A tibble: 3 × 2</caption>\n",
              "<thead>\n",
              "\t<tr><th scope=col>rideable_type</th><th scope=col>number_of_rides</th></tr>\n",
              "\t<tr><th scope=col>&lt;chr&gt;</th><th scope=col>&lt;int&gt;</th></tr>\n",
              "</thead>\n",
              "<tbody>\n",
              "\t<tr><td>classic_bike </td><td>2586662</td></tr>\n",
              "\t<tr><td>docked_bike  </td><td>  76124</td></tr>\n",
              "\t<tr><td>electric_bike</td><td>2825053</td></tr>\n",
              "</tbody>\n",
              "</table>\n"
            ],
            "text/markdown": "\nA tibble: 3 × 2\n\n| rideable_type &lt;chr&gt; | number_of_rides &lt;int&gt; |\n|---|---|\n| classic_bike  | 2586662 |\n| docked_bike   |   76124 |\n| electric_bike | 2825053 |\n\n",
            "text/latex": "A tibble: 3 × 2\n\\begin{tabular}{ll}\n rideable\\_type & number\\_of\\_rides\\\\\n <chr> & <int>\\\\\n\\hline\n\t classic\\_bike  & 2586662\\\\\n\t docked\\_bike   &   76124\\\\\n\t electric\\_bike & 2825053\\\\\n\\end{tabular}\n",
            "text/plain": [
              "  rideable_type number_of_rides\n",
              "1 classic_bike  2586662        \n",
              "2 docked_bike     76124        \n",
              "3 electric_bike 2825053        "
            ]
          },
          "metadata": {}
        }
      ]
    },
    {
      "cell_type": "code",
      "source": [
        "final_bikedata %>%\n",
        "  group_by(rideable_type) %>%\n",
        "  summarize(number_of_rides = n()) %>%\n",
        "  ggplot(aes(x= rideable_type, y= number_of_rides, fill = rideable_type))+\n",
        "  geom_col(width = 0.5, position = position_dodge(width = 0.5))"
      ],
      "metadata": {
        "id": "N5Rec6xsdN-P",
        "colab": {
          "base_uri": "https://localhost:8080/",
          "height": 437
        },
        "outputId": "8550d4c1-e0d3-4db7-e22c-2e8c8147c564"
      },
      "execution_count": null,
      "outputs": [
        {
          "output_type": "display_data",
          "data": {
            "text/plain": [
              "plot without title"
            ],
            "image/png": "[encoded data removed]"
          },
          "metadata": {
            "image/png": {
              "width": 420,
              "height": 420
            }
          }
        }
      ]
    },
    {
      "cell_type": "code",
      "source": [
        "#Bike type usage by user type\n",
        "final_bikedata %>%\n",
        "  group_by(member_casual, rideable_type) %>%\n",
        "  summarise(number_of_rides = n(),\n",
        "            .groups = \"drop\") %>%\n",
        "  arrange(rideable_type)"
      ],
      "metadata": {
        "colab": {
          "base_uri": "https://localhost:8080/",
          "height": 255
        },
        "id": "QGulF0lmNSWk",
        "outputId": "88620da8-244d-49b5-ad1d-37774a7f954a"
      },
      "execution_count": null,
      "outputs": [
        {
          "output_type": "display_data",
          "data": {
            "text/html": [
              "<table class=\"dataframe\">\n",
              "<caption>A tibble: 5 × 3</caption>\n",
              "<thead>\n",
              "\t<tr><th scope=col>member_casual</th><th scope=col>rideable_type</th><th scope=col>number_of_rides</th></tr>\n",
              "\t<tr><th scope=col>&lt;chr&gt;</th><th scope=col>&lt;chr&gt;</th><th scope=col>&lt;int&gt;</th></tr>\n",
              "</thead>\n",
              "<tbody>\n",
              "\t<tr><td>casual</td><td>classic_bike </td><td> 852801</td></tr>\n",
              "\t<tr><td>member</td><td>classic_bike </td><td>1733861</td></tr>\n",
              "\t<tr><td>casual</td><td>docked_bike  </td><td>  76124</td></tr>\n",
              "\t<tr><td>casual</td><td>electric_bike</td><td>1072330</td></tr>\n",
              "\t<tr><td>member</td><td>electric_bike</td><td>1752723</td></tr>\n",
              "</tbody>\n",
              "</table>\n"
            ],
            "text/markdown": "\nA tibble: 5 × 3\n\n| member_casual &lt;chr&gt; | rideable_type &lt;chr&gt; | number_of_rides &lt;int&gt; |\n|---|---|---|\n| casual | classic_bike  |  852801 |\n| member | classic_bike  | 1733861 |\n| casual | docked_bike   |   76124 |\n| casual | electric_bike | 1072330 |\n| member | electric_bike | 1752723 |\n\n",
            "text/latex": "A tibble: 5 × 3\n\\begin{tabular}{lll}\n member\\_casual & rideable\\_type & number\\_of\\_rides\\\\\n <chr> & <chr> & <int>\\\\\n\\hline\n\t casual & classic\\_bike  &  852801\\\\\n\t member & classic\\_bike  & 1733861\\\\\n\t casual & docked\\_bike   &   76124\\\\\n\t casual & electric\\_bike & 1072330\\\\\n\t member & electric\\_bike & 1752723\\\\\n\\end{tabular}\n",
            "text/plain": [
              "  member_casual rideable_type number_of_rides\n",
              "1 casual        classic_bike   852801        \n",
              "2 member        classic_bike  1733861        \n",
              "3 casual        docked_bike     76124        \n",
              "4 casual        electric_bike 1072330        \n",
              "5 member        electric_bike 1752723        "
            ]
          },
          "metadata": {}
        }
      ]
    },
    {
      "cell_type": "code",
      "source": [
        "final_bikedata %>%\n",
        "  group_by(member_casual, rideable_type) %>%\n",
        "  summarise(number_of_rides = n(),\n",
        "            .groups = \"drop\") %>%\n",
        "  ggplot(aes(member_casual, number_of_rides, fill = rideable_type)) +\n",
        "  geom_col(position = \"dodge\") +\n",
        "  labs(title = \"The number of bike type usages by user type\")"
      ],
      "metadata": {
        "colab": {
          "base_uri": "https://localhost:8080/",
          "height": 437
        },
        "id": "7R4YyOoENScD",
        "outputId": "65d1c37f-17c3-48d1-f57f-81862eb33033"
      },
      "execution_count": null,
      "outputs": [
        {
          "output_type": "display_data",
          "data": {
            "text/plain": [
              "plot without title"
            ],
            "image/png": "[encoded data removed]"
          },
          "metadata": {
            "image/png": {
              "width": 420,
              "height": 420
            }
          }
        }
      ]
    },
    {
      "cell_type": "code",
      "source": [
        "#Bike type and average ride time by user_type\n",
        "\n",
        "final_bikedata %>%\n",
        "  group_by(rideable_type) %>%\n",
        "  summarise(mean = mean(time_duration),\n",
        "            .groups = \"drop\") %>%\n",
        "  arrange(rideable_type)"
      ],
      "metadata": {
        "colab": {
          "base_uri": "https://localhost:8080/",
          "height": 192
        },
        "id": "G9DLk4pOPcoJ",
        "outputId": "500768e2-f947-492c-e53f-d22fe56034eb"
      },
      "execution_count": null,
      "outputs": [
        {
          "output_type": "display_data",
          "data": {
            "text/html": [
              "<table class=\"dataframe\">\n",
              "<caption>A tibble: 3 × 2</caption>\n",
              "<thead>\n",
              "\t<tr><th scope=col>rideable_type</th><th scope=col>mean</th></tr>\n",
              "\t<tr><th scope=col>&lt;chr&gt;</th><th scope=col>&lt;dbl&gt;</th></tr>\n",
              "</thead>\n",
              "<tbody>\n",
              "\t<tr><td>classic_bike </td><td>17.31570</td></tr>\n",
              "\t<tr><td>docked_bike  </td><td>53.97606</td></tr>\n",
              "\t<tr><td>electric_bike</td><td>12.40953</td></tr>\n",
              "</tbody>\n",
              "</table>\n"
            ],
            "text/markdown": "\nA tibble: 3 × 2\n\n| rideable_type &lt;chr&gt; | mean &lt;dbl&gt; |\n|---|---|\n| classic_bike  | 17.31570 |\n| docked_bike   | 53.97606 |\n| electric_bike | 12.40953 |\n\n",
            "text/latex": "A tibble: 3 × 2\n\\begin{tabular}{ll}\n rideable\\_type & mean\\\\\n <chr> & <dbl>\\\\\n\\hline\n\t classic\\_bike  & 17.31570\\\\\n\t docked\\_bike   & 53.97606\\\\\n\t electric\\_bike & 12.40953\\\\\n\\end{tabular}\n",
            "text/plain": [
              "  rideable_type mean    \n",
              "1 classic_bike  17.31570\n",
              "2 docked_bike   53.97606\n",
              "3 electric_bike 12.40953"
            ]
          },
          "metadata": {}
        }
      ]
    },
    {
      "cell_type": "code",
      "source": [
        "final_bikedata %>%\n",
        "  group_by(rideable_type) %>%\n",
        "  summarise(mean = mean(time_duration),\n",
        "            .groups = \"drop\") %>%\n",
        "  ggplot(aes(rideable_type, mean)) +\n",
        "  geom_col(position = \"dodge\") +\n",
        "  labs(title = \"The mean time duration (mint) by bike type\")"
      ],
      "metadata": {
        "colab": {
          "base_uri": "https://localhost:8080/",
          "height": 437
        },
        "id": "xGgzNeu9PcxV",
        "outputId": "338fab5d-bc54-463b-f218-c80075cdf526"
      },
      "execution_count": null,
      "outputs": [
        {
          "output_type": "display_data",
          "data": {
            "text/plain": [
              "plot without title"
            ],
            "image/png": "[encoded data removed]"
          },
          "metadata": {
            "image/png": {
              "width": 420,
              "height": 420
            }
          }
        }
      ]
    },
    {
      "cell_type": "code",
      "source": [
        "final_bikedata %>%\n",
        "  group_by(member_casual, rideable_type) %>%\n",
        "  summarise(mean = mean(time_duration),\n",
        "            .groups = \"drop\") %>%\n",
        "  arrange(rideable_type)"
      ],
      "metadata": {
        "colab": {
          "base_uri": "https://localhost:8080/",
          "height": 255
        },
        "id": "wcgneVILRDtq",
        "outputId": "9054306c-18f8-4a89-da4d-abf06a288993"
      },
      "execution_count": null,
      "outputs": [
        {
          "output_type": "display_data",
          "data": {
            "text/html": [
              "<table class=\"dataframe\">\n",
              "<caption>A tibble: 5 × 3</caption>\n",
              "<thead>\n",
              "\t<tr><th scope=col>member_casual</th><th scope=col>rideable_type</th><th scope=col>mean</th></tr>\n",
              "\t<tr><th scope=col>&lt;chr&gt;</th><th scope=col>&lt;chr&gt;</th><th scope=col>&lt;dbl&gt;</th></tr>\n",
              "</thead>\n",
              "<tbody>\n",
              "\t<tr><td>casual</td><td>classic_bike </td><td>25.92579</td></tr>\n",
              "\t<tr><td>member</td><td>classic_bike </td><td>13.08082</td></tr>\n",
              "\t<tr><td>casual</td><td>docked_bike  </td><td>53.97606</td></tr>\n",
              "\t<tr><td>casual</td><td>electric_bike</td><td>14.38091</td></tr>\n",
              "\t<tr><td>member</td><td>electric_bike</td><td>11.20343</td></tr>\n",
              "</tbody>\n",
              "</table>\n"
            ],
            "text/markdown": "\nA tibble: 5 × 3\n\n| member_casual &lt;chr&gt; | rideable_type &lt;chr&gt; | mean &lt;dbl&gt; |\n|---|---|---|\n| casual | classic_bike  | 25.92579 |\n| member | classic_bike  | 13.08082 |\n| casual | docked_bike   | 53.97606 |\n| casual | electric_bike | 14.38091 |\n| member | electric_bike | 11.20343 |\n\n",
            "text/latex": "A tibble: 5 × 3\n\\begin{tabular}{lll}\n member\\_casual & rideable\\_type & mean\\\\\n <chr> & <chr> & <dbl>\\\\\n\\hline\n\t casual & classic\\_bike  & 25.92579\\\\\n\t member & classic\\_bike  & 13.08082\\\\\n\t casual & docked\\_bike   & 53.97606\\\\\n\t casual & electric\\_bike & 14.38091\\\\\n\t member & electric\\_bike & 11.20343\\\\\n\\end{tabular}\n",
            "text/plain": [
              "  member_casual rideable_type mean    \n",
              "1 casual        classic_bike  25.92579\n",
              "2 member        classic_bike  13.08082\n",
              "3 casual        docked_bike   53.97606\n",
              "4 casual        electric_bike 14.38091\n",
              "5 member        electric_bike 11.20343"
            ]
          },
          "metadata": {}
        }
      ]
    },
    {
      "cell_type": "code",
      "source": [
        "#Bike type and average ride time by user_type\n",
        "final_bikedata %>%\n",
        "  group_by(member_casual, rideable_type) %>%\n",
        "  summarise(mean = mean(time_duration),\n",
        "            .groups = \"drop\") %>%\n",
        "  ggplot(aes(rideable_type, mean, fill = member_casual)) +\n",
        "  geom_col(position = \"dodge\") +\n",
        "  labs(title = \"The mean time duration by bike and user type\")"
      ],
      "metadata": {
        "colab": {
          "base_uri": "https://localhost:8080/",
          "height": 437
        },
        "id": "IsuhrEWpPc0V",
        "outputId": "9dcaebe7-e7c0-4030-d860-06cf3b9e4def"
      },
      "execution_count": null,
      "outputs": [
        {
          "output_type": "display_data",
          "data": {
            "text/plain": [
              "plot without title"
            ],
            "image/png": "[encoded data removed]"
          },
          "metadata": {
            "image/png": {
              "width": 420,
              "height": 420
            }
          }
        }
      ]
    },
    {
      "cell_type": "code",
      "source": [
        "#the number of user type used pike over 24 hr period (a day)\n",
        "final_bikedata %>%\n",
        "  group_by(member_casual, time) %>%\n",
        "  summarise(number_of_rides = n()) %>%\n",
        "  ggplot(aes(x = time, y = number_of_rides, group = member_casual)) +\n",
        "  geom_line(aes(color=member_casual)) +\n",
        "  scale_color_manual(values = c('#C42525', '#1F5E89')) +\n",
        "  theme_bw() +\n",
        "  scale_x_datetime(date_breaks = \"1 hour\", minor_breaks = NULL,\n",
        "                   date_labels = \"%H:%M\", expand = c(0,0)) +\n",
        "  theme(axis.text.x = element_text(angle = 90)) +\n",
        "  labs(title =\"The usge over 24 hours by user type\")"
      ],
      "metadata": {
        "colab": {
          "base_uri": "https://localhost:8080/",
          "height": 473
        },
        "id": "5KJVP6j5Pc6G",
        "outputId": "7c50629b-3752-4755-c264-827fbe7be83d"
      },
      "execution_count": null,
      "outputs": [
        {
          "output_type": "stream",
          "name": "stderr",
          "text": [
            "\u001b[1m\u001b[22m`summarise()` has grouped output by 'member_casual'. You can override using the\n",
            "`.groups` argument.\n"
          ]
        },
        {
          "output_type": "display_data",
          "data": {
            "text/plain": [
              "plot without title"
            ],
            "image/png": "[encoded data removed]"
          },
          "metadata": {
            "image/png": {
              "width": 420,
              "height": 420
            }
          }
        }
      ]
    }
  ],
  "metadata": {
    "colab": {
      "provenance": []
    },
    "kernelspec": {
      "display_name": "R",
      "name": "ir"
    },
    "language_info": {
      "name": "R"
    }
  },
  "nbformat": 4,
  "nbformat_minor": 0
}